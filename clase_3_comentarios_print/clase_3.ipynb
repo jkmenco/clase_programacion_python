{
 "cells": [
  {
   "attachments": {},
   "cell_type": "markdown",
   "metadata": {},
   "source": [
    "Reenombrar las variables de camelCase a snake_case"
   ]
  },
  {
   "cell_type": "code",
   "execution_count": null,
   "metadata": {},
   "outputs": [],
   "source": [
    "pan_tajado = 4\n",
    "rebanadas_de_queso = 4\n",
    "pechuga_de_pollo = 1\n",
    "lechuga_fresca = \"Cortado muy fino\"\n",
    "rodajas_finas_de_Tomates = 4\n",
    "frasco_de_mayonesa = 1\n",
    "sal = \"Al gusto\"\n",
    "pimienta_molida = \"Al gusto\"\n",
    "mantequilla = 1/4\n",
    "\n",
    "# No es un cuarto, es 1 entre 4, debemos corregirlo"
   ]
  },
  {
   "cell_type": "code",
   "execution_count": null,
   "metadata": {},
   "outputs": [],
   "source": [
    "def will_take_a_number_and_multiply_it_from_one_to_ten(num):\n",
    "    for i in range(1,11):\n",
    "        print(f'{num}x{i} = {num*i}')\n"
   ]
  },
  {
   "cell_type": "code",
   "execution_count": 1,
   "metadata": {},
   "outputs": [
    {
     "name": "stdout",
     "output_type": "stream",
     "text": [
      "5x1 = 5\n",
      "5x2 = 10\n",
      "5x3 = 15\n",
      "5x4 = 20\n",
      "5x5 = 25\n",
      "5x6 = 30\n",
      "5x7 = 35\n",
      "5x8 = 40\n",
      "5x9 = 45\n",
      "5x10 = 50\n"
     ]
    }
   ],
   "source": [
    "def will_take_a_number_and_multiply_it_from_one_to_ten(num):\n",
    "    for i in range(1,11):\n",
    "        print(f'{num}x{i} = {num*i}')\n",
    "        \n",
    "# Iterará en un rango de 1 al 10\n",
    "# imprimira un texto en forma de tabla de multiplicar\n",
    "# multiplicará el número agregado del 1 al 10\n",
    "\n",
    "will_take_a_number_and_multiply_it_from_one_to_ten(5)"
   ]
  },
  {
   "cell_type": "code",
   "execution_count": null,
   "metadata": {},
   "outputs": [],
   "source": [
    "# Ingredientes para preparar un sandwich\n",
    "\n",
    "'''\n",
    "Estos son los ingredientes necesarios, para preparar un sandich\n",
    "la cantidad necesaria de cada uno de ellos o\n",
    "lo aconsejable para preparación\n",
    "'''\n",
    "\n",
    "pan_tajado = 4\n",
    "# 4 panes tajados para hacer un sadwich doble o preparar 2 porciones completas\n",
    "rebanadas_de_queso = 4\n",
    "# 4 rebanadas de queso igual que de tomate\n",
    "pechuga_de_pollo = 1\n",
    "\n",
    "lechuga_fresca = \"Cortado muy fino\"\n",
    "\n",
    "rodajas_finas_de_tomates = 4\n",
    "\n",
    "frasco_de_mayonesa = 1\n",
    "\n",
    "sal = \"Al gusto\"\n",
    "\n",
    "pimienta_molida = \"Al gusto\"\n",
    "\n",
    "mantequilla = 1/4"
   ]
  },
  {
   "cell_type": "code",
   "execution_count": null,
   "metadata": {},
   "outputs": [],
   "source": [
    "dia = 24\n",
    "mes = \"Agosto\"\n",
    "año = 2015\n",
    "\n",
    "print('Hola, buenos dias')"
   ]
  },
  {
   "cell_type": "code",
   "execution_count": null,
   "metadata": {},
   "outputs": [],
   "source": [
    "dia = 24\n",
    "mes = \"Agosto\"\n",
    "año = 2015\n",
    "\n",
    "print(dia)\n",
    "print(mes)\n",
    "print(año)\n",
    "\n"
   ]
  },
  {
   "attachments": {},
   "cell_type": "markdown",
   "metadata": {},
   "source": [
    "y podemos imprimir TODO si sabemos combinarlo, existen varias formas, en la documentaciones de python sobre la funcion print podran conocer mas"
   ]
  },
  {
   "cell_type": "code",
   "execution_count": 1,
   "metadata": {},
   "outputs": [
    {
     "name": "stdout",
     "output_type": "stream",
     "text": [
      "El 24 de Agosto del año 2015 La deportista Caterine Ibargüen ganó oro en salto triple, en el mundial de pekín\n"
     ]
    }
   ],
   "source": [
    "dia = 24\n",
    "mes = \"Agosto\"\n",
    "año = 2015\n",
    "\n",
    "print(\"El\",dia,\"de\",mes,\"del año\",año,\"La deportista Caterine Ibargüen ganó oro en salto triple, en el mundial de pekín\")\n"
   ]
  },
  {
   "attachments": {},
   "cell_type": "markdown",
   "metadata": {},
   "source": [
    "Generador de saludo: hola (nombre): Objetivo, la persona escribe su nombre en una variable y el generador va a crear un saludo"
   ]
  },
  {
   "cell_type": "code",
   "execution_count": 1,
   "metadata": {},
   "outputs": [
    {
     "name": "stdout",
     "output_type": "stream",
     "text": [
      "Hola Jhonatan que tal estas?\n"
     ]
    }
   ],
   "source": [
    "name = \"Jhonatan\"\n",
    "\n",
    "print(\"Hola\", name, \"que tal estas?\")"
   ]
  },
  {
   "attachments": {},
   "cell_type": "markdown",
   "metadata": {},
   "source": [
    "Me presento: La persona escribe su nombre y su edad, y el algoritmo va a crear un mensaje de las persona presentando. "
   ]
  },
  {
   "attachments": {},
   "cell_type": "markdown",
   "metadata": {},
   "source": [
    "Plato con ingredientes: la persona escribe un plato típico costeño y los ingredientes en forma de variables y el generador va a mostrar un mensaje de: \n",
    "\n",
    "El (nombre del plato ) es un plato típico costeño y sus ingredientes son : (lista de variables con ingredientes)"
   ]
  },
  {
   "attachments": {},
   "cell_type": "markdown",
   "metadata": {},
   "source": [
    "Generador de mi lugar de procedencia: La personal escribe en variables: hospital donde nació, ciudad, departamento, país y el generador va a mostrar un mensaje que diga: Hola Yo nací en el hospital (nombre hospital ) que está ubicado en ( ciudad ), ( departamento ) en ( país )"
   ]
  },
  {
   "attachments": {},
   "cell_type": "markdown",
   "metadata": {},
   "source": [
    "# al final\n",
    "\n",
    "Mostrar recursos de documentación, vídeos, donde existen otras maneras de usar los Prints más avanzando."
   ]
  }
 ],
 "metadata": {
  "kernelspec": {
   "display_name": "Python 3",
   "language": "python",
   "name": "python3"
  },
  "language_info": {
   "codemirror_mode": {
    "name": "ipython",
    "version": 3
   },
   "file_extension": ".py",
   "mimetype": "text/x-python",
   "name": "python",
   "nbconvert_exporter": "python",
   "pygments_lexer": "ipython3",
   "version": "3.11.0"
  },
  "orig_nbformat": 4
 },
 "nbformat": 4,
 "nbformat_minor": 2
}
