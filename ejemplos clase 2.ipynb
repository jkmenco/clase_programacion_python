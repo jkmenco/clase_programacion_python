{
 "cells": [
  {
   "cell_type": "markdown",
   "metadata": {},
   "source": [
    "# Variables"
   ]
  },
  {
   "cell_type": "code",
   "execution_count": null,
   "metadata": {},
   "outputs": [],
   "source": [
    "num_int = 10\n",
    "\n",
    "num_float = 10.9\n",
    "\n",
    "string = \"Hola\"\n",
    "\n",
    "bool_true = True\n",
    "bool_false = False"
   ]
  },
  {
   "cell_type": "markdown",
   "metadata": {},
   "source": [
    "# datos\n",
    "\n",
    "\n",
    "    > Numeral:\n",
    "        * Int = Enteros\n",
    "        * Float = Decimales\n",
    "    >String = Letras y palabras\n",
    "    >Bool = Dato logico:\n",
    "                * Falso\n",
    "                * Verdadero"
   ]
  },
  {
   "cell_type": "markdown",
   "metadata": {},
   "source": [
    "# Funciones"
   ]
  },
  {
   "cell_type": "code",
   "execution_count": null,
   "metadata": {},
   "outputs": [],
   "source": [
    "print()\n",
    "\n",
    "type()"
   ]
  },
  {
   "cell_type": "markdown",
   "metadata": {},
   "source": [
    "# ejemplo 1"
   ]
  },
  {
   "cell_type": "code",
   "execution_count": 1,
   "metadata": {},
   "outputs": [
    {
     "name": "stdout",
     "output_type": "stream",
     "text": [
      "en la canasta hay 10 manzanas\n"
     ]
    }
   ],
   "source": [
    "cantidad = 10\n",
    "fruta = \"manzanas\"\n",
    "\n",
    "print(\"en la canasta hay\",cantidad,fruta)"
   ]
  },
  {
   "cell_type": "markdown",
   "metadata": {},
   "source": [
    "# ejemplo 3"
   ]
  },
  {
   "cell_type": "code",
   "execution_count": 9,
   "metadata": {},
   "outputs": [
    {
     "name": "stdout",
     "output_type": "stream",
     "text": [
      "Me llamo Alicia y tengo 35 años\n",
      "Mi reloj costo $2.7\n",
      "\n",
      "Alicia es mayor de edad?\n",
      "True\n",
      "<class 'int'>\n",
      "<class 'str'>\n",
      "<class 'float'>\n",
      "<class 'bool'>\n"
     ]
    }
   ],
   "source": [
    "#incluso podemos encerrar dentro del print, la función tayp y luego lo que queremos ver\n",
    "\n",
    "name = 'Alicia'\n",
    "age = 35\n",
    "value = 2.7\n",
    "item = \"reloj\"\n",
    "result = age >= 18\n",
    "\n",
    "print(f'Me llamo {name} y tengo {age} años\\nMi {item} costo ${value}')\n",
    "print()\n",
    "print(f'Alicia es mayor de edad?\\n{result}')\n",
    "\n",
    "print(type(age))\n",
    "print(type(name))\n",
    "print(type(value))\n",
    "print(type(result))"
   ]
  }
 ],
 "metadata": {
  "kernelspec": {
   "display_name": "Python 3.11.0 64-bit",
   "language": "python",
   "name": "python3"
  },
  "language_info": {
   "codemirror_mode": {
    "name": "ipython",
    "version": 3
   },
   "file_extension": ".py",
   "mimetype": "text/x-python",
   "name": "python",
   "nbconvert_exporter": "python",
   "pygments_lexer": "ipython3",
   "version": "3.11.0"
  },
  "orig_nbformat": 4,
  "vscode": {
   "interpreter": {
    "hash": "aee8b7b246df8f9039afb4144a1f6fd8d2ca17a180786b69acc140d282b71a49"
   }
  }
 },
 "nbformat": 4,
 "nbformat_minor": 2
}
