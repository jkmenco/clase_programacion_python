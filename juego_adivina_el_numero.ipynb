{
 "cells": [
  {
   "cell_type": "markdown",
   "metadata": {},
   "source": [
    "# Realizar un juego para adivinar un número.\n",
    "\n",
    "Para ello generar un número aleatorio entre 0-100, y luego ir pidiendo números indicando \"Es mayor\" o \"Es menor\" según sea mayor o menor con respecto al N.\n",
    "\n",
    "El proceso termina cuando el usuario acierta y mostrar el número de intentos"
   ]
  },
  {
   "cell_type": "markdown",
   "metadata": {},
   "source": [
    "* generar un numero aleatorio 0-100 ✅\n",
    "* pedir un numero ✅\n",
    "* indicar si es < o > que el generado inicialmente ✅\n",
    "* terminar cuando acierte ✅\n",
    "* mostrar la cantidad de intentos ✅"
   ]
  },
  {
   "cell_type": "code",
   "execution_count": 2,
   "metadata": {},
   "outputs": [
    {
     "name": "stdout",
     "output_type": "stream",
     "text": [
      ".:Bienvenido:.\n",
      "Adivina el numero que estoy pensando!\n",
      "30 Es menor, sigue intentando\n",
      "\n",
      "45 Es menor, sigue intentando\n",
      "\n",
      "70 Es mayor, sigue intentando\n",
      "\n",
      "55 Es menor, sigue intentando\n",
      "\n",
      "68 Es mayor, sigue intentando\n",
      "\n",
      "60 Es menor, sigue intentando\n",
      "\n",
      "65 Es menor, sigue intentando\n",
      "\n",
      "\n",
      "67 Es el numero!\n",
      "\n",
      "sus numero de intentos fueron 7\n",
      "Fin del juego\n"
     ]
    }
   ],
   "source": [
    "from random import randint\n",
    "\n",
    "print(end='.:Bienvenido:.\\nAdivina el numero que estoy pensando!')\n",
    "\n",
    "a = randint(0,100)\n",
    "\n",
    "contador = 0\n",
    "\n",
    "b = int(input('Adivina el numero de 0 a 100 -> '))\n",
    "print()\n",
    "while b>=0:\n",
    "    if b>a:\n",
    "        print(f'{b} Es mayor, sigue intentando')\n",
    "        print()\n",
    "        b = int(input('Adivina el numero de 0 a 100 -> '))\n",
    "        contador += 1\n",
    "    elif b<a:\n",
    "        print(f'{b} Es menor, sigue intentando')\n",
    "        print()\n",
    "        b = int(input('Adivina el numero de 0 a 100 -> '))\n",
    "        contador += 1\n",
    "    elif b==a:\n",
    "        print()\n",
    "        print(f'{b} Es el numero!')\n",
    "        break\n",
    "print()\n",
    "print(f'sus numero de intentos fueron {contador}')\n",
    "print('Fin del juego')\n",
    " "
   ]
  },
  {
   "cell_type": "code",
   "execution_count": 72,
   "metadata": {},
   "outputs": [
    {
     "name": "stdout",
     "output_type": "stream",
     "text": [
      "1 de 0 a 10 entero\n",
      "9.696480547975717 de 0 a 10 decimal\n",
      "0.27056112419643863 entre 0 al 1 \"provabilidades\"\n"
     ]
    }
   ],
   "source": [
    "from random import randint,random,uniform\n",
    "\n",
    "a=randint(0,10)\n",
    "b=uniform(0,10)\n",
    "c=random()\n",
    "\n",
    "print(a,'de 0 a 10 entero')\n",
    "print(b,'de 0 a 10 decimal')\n",
    "print(c,'entre 0 al 1 \"provabilidades\"')"
   ]
  },
  {
   "cell_type": "markdown",
   "metadata": {},
   "source": [
    "# Explicación"
   ]
  },
  {
   "cell_type": "code",
   "execution_count": null,
   "metadata": {},
   "outputs": [],
   "source": [
    "from random import randint # para generar numero aleatorio importar randint de random\n",
    "\n",
    "print(end='.:Bienvenido:.\\nAdivina el numero que estoy pensando!')\n",
    "\n",
    "numberRandom = randint(0,100) # generar numero aleatorio entero de 0 a 100\n",
    "\n",
    "counterTryUser = 0  # numero inicial de intentos\n",
    "\n",
    "whatIsNumber = int(input('Adivina el numero de 0 a 100 -> ')) # pedido de datos para iniciar el juego e iniciar el bucle\n",
    "\n",
    "print()\n",
    "\n",
    "while whatIsNumber>=0: # bucle, si el numero digitado es mayor o igual a 0 entonces...\n",
    "    if whatIsNumber>numberRandom: # si el numero digitado es mayor que el generado, se pedira volver a intentar\n",
    "        print(f'{whatIsNumber} Es mayor, sigue intentando')\n",
    "        print()\n",
    "        whatIsNumber = int(input('Adivina el numero de 0 a 100 -> '))\n",
    "        counterTryUser += 1 # aumentar en 1 el contador de intentos\n",
    "    elif whatIsNumber<numberRandom: # si el numero digitado es menor que el generado, se pedira volver a intentar\n",
    "        print(f'{whatIsNumber} Es menor, sigue intentando')\n",
    "        print()\n",
    "        whatIsNumber = int(input('Adivina el numero de 0 a 100 -> '))\n",
    "        counterTryUser += 1 # aumentar en 1 el contador de intentos\n",
    "    elif whatIsNumber==numberRandom: # si el numero digitado es el numero generado, es fin del juego\n",
    "        print()\n",
    "        print(f'{whatIsNumber} Es el numero!')\n",
    "        break # romper bucle\n",
    "print()\n",
    "print(f'sus numero de intentos fueron {counterTryUser}') # mostrar los intentos totales\n",
    "print('Fin del juego')\n"
   ]
  }
 ],
 "metadata": {
  "kernelspec": {
   "display_name": "Python 3.11.0 64-bit",
   "language": "python",
   "name": "python3"
  },
  "language_info": {
   "codemirror_mode": {
    "name": "ipython",
    "version": 3
   },
   "file_extension": ".py",
   "mimetype": "text/x-python",
   "name": "python",
   "nbconvert_exporter": "python",
   "pygments_lexer": "ipython3",
   "version": "3.11.0"
  },
  "orig_nbformat": 4,
  "vscode": {
   "interpreter": {
    "hash": "aee8b7b246df8f9039afb4144a1f6fd8d2ca17a180786b69acc140d282b71a49"
   }
  }
 },
 "nbformat": 4,
 "nbformat_minor": 2
}
