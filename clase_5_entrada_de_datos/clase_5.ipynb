{
 "cells": [
  {
   "attachments": {},
   "cell_type": "markdown",
   "metadata": {},
   "source": [
    "ejercicios de codigo matematico"
   ]
  },
  {
   "cell_type": "code",
   "execution_count": 4,
   "metadata": {},
   "outputs": [
    {
     "name": "stdout",
     "output_type": "stream",
     "text": [
      "81.0\n"
     ]
    }
   ],
   "source": [
    "print(7*(8/2+4)+30-5)"
   ]
  },
  {
   "cell_type": "code",
   "execution_count": 15,
   "metadata": {},
   "outputs": [
    {
     "name": "stdout",
     "output_type": "stream",
     "text": [
      "15.0\n"
     ]
    }
   ],
   "source": [
    "print((8+8) / 2 + 7)"
   ]
  },
  {
   "attachments": {},
   "cell_type": "markdown",
   "metadata": {},
   "source": [
    "Programa simple: ingresar el total de factura de una compra y obtener el valor del 15% de descuento"
   ]
  },
  {
   "attachments": {},
   "cell_type": "markdown",
   "metadata": {},
   "source": [
    "descuento = (precio *15) / 100\n",
    "\n",
    "multiplicar el precio por el porcentaje a calcular (15 para 15%, 20 para 20%)\n",
    "\n",
    "precio_final = precio - descuento"
   ]
  },
  {
   "cell_type": "code",
   "execution_count": 8,
   "metadata": {},
   "outputs": [
    {
     "name": "stdout",
     "output_type": "stream",
     "text": [
      "1.5\n",
      "40000\n",
      "60000.0\n",
      "6000.0\n",
      "34000.0\n"
     ]
    }
   ],
   "source": [
    "discount = 15/10\n",
    "price = 40000\n",
    "multiplication_of_discount = discount*price\n",
    "discount_division = multiplication_of_discount / 10\n",
    "final_discount = price - discount_division\n",
    "print(final_discount)"
   ]
  },
  {
   "cell_type": "code",
   "execution_count": 11,
   "metadata": {},
   "outputs": [
    {
     "name": "stdout",
     "output_type": "stream",
     "text": [
      "34000.0\n"
     ]
    }
   ],
   "source": [
    "price = 40000\n",
    "\n",
    "discount = 15\n",
    "\n",
    "multiplication_of_discount = price * discount\n",
    "discount_division = multiplication_of_discount / 100\n",
    "final_discount = price - discount_division\n",
    "print(final_discount)"
   ]
  },
  {
   "cell_type": "code",
   "execution_count": 1,
   "metadata": {},
   "outputs": [
    {
     "name": "stdout",
     "output_type": "stream",
     "text": [
      "6000.0\n",
      "34000.0\n"
     ]
    }
   ],
   "source": [
    "price = 40000\n",
    "discount = (price*15) / 100\n",
    "precio_final = price - discount\n",
    "\n",
    "print(discount)\n",
    "print(precio_final)"
   ]
  },
  {
   "attachments": {},
   "cell_type": "markdown",
   "metadata": {},
   "source": [
    "cambiar de metros a centimetros"
   ]
  },
  {
   "cell_type": "code",
   "execution_count": 15,
   "metadata": {},
   "outputs": [
    {
     "name": "stdout",
     "output_type": "stream",
     "text": [
      "2450 metros son 245000 centimetros\n"
     ]
    }
   ],
   "source": [
    "meter = 2450\n",
    "\n",
    "centimeter = 100\n",
    "\n",
    "print(f'{meter} metros son {meter*centimeter} centimetros')"
   ]
  },
  {
   "attachments": {},
   "cell_type": "markdown",
   "metadata": {},
   "source": [
    "calcular indice de masa corporal"
   ]
  },
  {
   "cell_type": "code",
   "execution_count": 19,
   "metadata": {},
   "outputs": [
    {
     "name": "stdout",
     "output_type": "stream",
     "text": [
      "Su indice de masa corporal es de:28.73\n"
     ]
    }
   ],
   "source": [
    "weight = 85\n",
    "height = 1.72\n",
    "imc = weight / (height*height)\n",
    "print(f'Su indice de masa corporal es de:{imc:.2f}')"
   ]
  },
  {
   "attachments": {},
   "cell_type": "markdown",
   "metadata": {},
   "source": [
    "# Entrada y salida de datos"
   ]
  },
  {
   "cell_type": "code",
   "execution_count": null,
   "metadata": {},
   "outputs": [],
   "source": [
    "data = input(\"Your data here -> \") "
   ]
  },
  {
   "attachments": {},
   "cell_type": "markdown",
   "metadata": {},
   "source": [
    "escribamos una variable, almacenara un nombre, ahora usamos input y anotamos una descripcion\n",
    "\n",
    "ahora imprimimos un saludo, usamos nombre, y aqui, sea cual sea el dato que escriban, tendremos dicha información"
   ]
  },
  {
   "cell_type": "code",
   "execution_count": 1,
   "metadata": {},
   "outputs": [
    {
     "name": "stdout",
     "output_type": "stream",
     "text": [
      "Hola 492re que tal te encuentras el dia de hoy?\n"
     ]
    }
   ],
   "source": [
    "name = input(\"Escriba su nombre: \")\n",
    "\n",
    "print(f'Hola {name} que tal te encuentras el dia de hoy?')"
   ]
  },
  {
   "attachments": {},
   "cell_type": "markdown",
   "metadata": {},
   "source": [
    "pero aunque dice escriba un nombre, podemos anotar numeros y simbolos"
   ]
  },
  {
   "attachments": {},
   "cell_type": "markdown",
   "metadata": {},
   "source": [
    "que pasa si usamos operadores aritmeticos con input?"
   ]
  },
  {
   "cell_type": "code",
   "execution_count": 6,
   "metadata": {},
   "outputs": [
    {
     "ename": "TypeError",
     "evalue": "can only concatenate str (not \"int\") to str",
     "output_type": "error",
     "traceback": [
      "\u001b[0;31m---------------------------------------------------------------------------\u001b[0m",
      "\u001b[0;31mTypeError\u001b[0m                                 Traceback (most recent call last)",
      "\u001b[1;32m/Users/carlosrios/Documents/Curso programacion Jhonatan Menco/clase_python/clase_5_entrada_de_datos/clase_5.ipynb Cell 17\u001b[0m in \u001b[0;36m3\n\u001b[1;32m      <a href='vscode-notebook-cell:/Users/carlosrios/Documents/Curso%20programacion%20Jhonatan%20Menco/clase_python/clase_5_entrada_de_datos/clase_5.ipynb#X33sZmlsZQ%3D%3D?line=0'>1</a>\u001b[0m numero \u001b[39m=\u001b[39m \u001b[39minput\u001b[39m(\u001b[39m\"\u001b[39m\u001b[39mEscriba un numero para sumarlo\u001b[39m\u001b[39m\"\u001b[39m)\n\u001b[0;32m----> <a href='vscode-notebook-cell:/Users/carlosrios/Documents/Curso%20programacion%20Jhonatan%20Menco/clase_python/clase_5_entrada_de_datos/clase_5.ipynb#X33sZmlsZQ%3D%3D?line=2'>3</a>\u001b[0m \u001b[39mprint\u001b[39m(\u001b[39mf\u001b[39m\u001b[39m'\u001b[39m\u001b[39m{\u001b[39;00mnumero\u001b[39m}\u001b[39;00m\u001b[39m+1 = \u001b[39m\u001b[39m{\u001b[39;00mnumero\u001b[39m+\u001b[39;49m\u001b[39m1\u001b[39;49m\u001b[39m}\u001b[39;00m\u001b[39m'\u001b[39m)\n",
      "\u001b[0;31mTypeError\u001b[0m: can only concatenate str (not \"int\") to str"
     ]
    }
   ],
   "source": [
    "num = input(\"Escriba un numero para sumarlo\")\n",
    "# Este código necesita un número para sumarle 1 y mostrar el resultado, pero...\n",
    "print(f'{num}+1 = {num+1}')"
   ]
  },
  {
   "attachments": {},
   "cell_type": "markdown",
   "metadata": {},
   "source": [
    "Veamos como arreglamos esto\n",
    "\n",
    "(ver diapositiva)"
   ]
  },
  {
   "cell_type": "code",
   "execution_count": 1,
   "metadata": {},
   "outputs": [
    {
     "name": "stdout",
     "output_type": "stream",
     "text": [
      "1+1 = 2\n"
     ]
    }
   ],
   "source": [
    "num = int(input(\"Escriba un numero para sumarlo\"))\n",
    "print(f'{num}+1 = {num+1}')"
   ]
  },
  {
   "attachments": {},
   "cell_type": "markdown",
   "metadata": {},
   "source": [
    "volver a las diapositivas"
   ]
  },
  {
   "attachments": {},
   "cell_type": "markdown",
   "metadata": {},
   "source": [
    "Ahora, mejoremos los programas anteriores, agreguemosle input para que reciba datos\n",
    "Pero, que pasa si ahora el usuario digita mal los datos?\n",
    "si el usuario escribe numeros en lugar de letras?\n",
    "o letras en lugar de numeros?"
   ]
  },
  {
   "cell_type": "code",
   "execution_count": 3,
   "metadata": {},
   "outputs": [
    {
     "name": "stdout",
     "output_type": "stream",
     "text": [
      "hola 10 11.5\n"
     ]
    }
   ],
   "source": [
    "nombre = str(input('='))\n",
    "entero = int(input('='))\n",
    "decimal = float(input('='))\n",
    "\n",
    "print(nombre,entero,decimal)"
   ]
  },
  {
   "cell_type": "code",
   "execution_count": 2,
   "metadata": {},
   "outputs": [
    {
     "name": "stdout",
     "output_type": "stream",
     "text": [
      "Su total es de $40000\n",
      "Con un 15% de descuento\n",
      "El precio final a pagar es de $34000\n"
     ]
    }
   ],
   "source": [
    "# Ejercicio 5 Descuento del 15% de una tienda\n",
    "\n",
    "'''\n",
    "Todos los productos tienen un 15%\n",
    "de descuento\n",
    "'''\n",
    "\n",
    "price = float(input(\"Digite precio del producto:\"))\n",
    "\n",
    "discount = (price *15) / 100\n",
    "\n",
    "final_discount = price - discount\n",
    "\n",
    "print(f\"Su total es de ${price:.0f}\")\n",
    "print(f\"Con un 15% de descuento\\nEl precio final a pagar es de ${final_discount:.0f}\")"
   ]
  },
  {
   "cell_type": "code",
   "execution_count": 3,
   "metadata": {},
   "outputs": [
    {
     "name": "stdout",
     "output_type": "stream",
     "text": [
      "Su indice de masa corporal es de:28.89\n"
     ]
    }
   ],
   "source": [
    "weight = float(input(\"¿Cuál es tu peso en kg? \"))\n",
    "height = float(input(\"¿Cuál es tu estatura en metros?\"))\n",
    "imc = weight / (height*height)\n",
    "print(f'Su indice de masa corporal es de:{imc:.2f}')"
   ]
  }
 ],
 "metadata": {
  "kernelspec": {
   "display_name": "Python 3",
   "language": "python",
   "name": "python3"
  },
  "language_info": {
   "codemirror_mode": {
    "name": "ipython",
    "version": 3
   },
   "file_extension": ".py",
   "mimetype": "text/x-python",
   "name": "python",
   "nbconvert_exporter": "python",
   "pygments_lexer": "ipython3",
   "version": "3.11.0"
  },
  "orig_nbformat": 4
 },
 "nbformat": 4,
 "nbformat_minor": 2
}
