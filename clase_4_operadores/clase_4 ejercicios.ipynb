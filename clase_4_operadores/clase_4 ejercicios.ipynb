{
 "cells": [
  {
   "attachments": {},
   "cell_type": "markdown",
   "metadata": {},
   "source": [
    "# Datos\n",
    "\n",
    "\n",
    "    > Numeral:\n",
    "        * Int = Enteros\n",
    "        * Float = Decimales\n",
    "    >Caracter:\n",
    "        String = \"Letras y palabras\"\n",
    "    >Lógico:\n",
    "        Bool =  * False = Falso\n",
    "                * True = Verdadero"
   ]
  },
  {
   "cell_type": "code",
   "execution_count": null,
   "metadata": {},
   "outputs": [],
   "source": [
    "print()\n",
    "\n",
    "type()"
   ]
  },
  {
   "cell_type": "markdown",
   "metadata": {},
   "source": [
    "veamos este codigo, como pueden ver tenemos unas variables con informacion"
   ]
  },
  {
   "cell_type": "markdown",
   "metadata": {},
   "source": [
    "vamos a imprimir esto pero con un metodo diferente al utilizado, iniciamos el print con una f de formato y abro comillas\n",
    "redacto y cuando quiera usar alguna varaible abro y cierro llaves, continuo... uso \\n para saltar la linea y continuo,"
   ]
  },
  {
   "cell_type": "code",
   "execution_count": 15,
   "metadata": {},
   "outputs": [
    {
     "name": "stdout",
     "output_type": "stream",
     "text": [
      "Me llamo Alicia y tengo 35 años\n",
      "Mi reloj costo $2.7\n",
      "\n",
      "Alicia es mayor de edad?\n",
      "True Es mayor de edad\n",
      "<class 'int'>\n",
      "<class 'str'>\n",
      "<class 'float'>\n",
      "<class 'bool'>\n"
     ]
    }
   ],
   "source": [
    "# incluso podemos encerrar dentro del print, la función tayp y luego lo que queremos ver\n",
    "\n",
    "nombre = 'Alicia'\n",
    "edad = 35\n",
    "costo = 2.7\n",
    "objeto = \"reloj\"\n",
    "\n",
    "\n",
    "print(f'Me llamo {nombre} y tengo {edad} años\\nMi {objeto} costo ${costo}')\n",
    "print()\n",
    "print(f'Alicia es mayor de edad?\\n{edad >= 18} Es mayor de edad')\n",
    "\n",
    "# ahora usemos la funcion tayp para ver que tipo son los valores aqui usados\n",
    "\n",
    "\n",
    "print(type(edad))\n",
    "print(type(nombre))\n",
    "print(type(costo))\n",
    "print(type(edad >= 18))"
   ]
  },
  {
   "attachments": {},
   "cell_type": "markdown",
   "metadata": {},
   "source": [
    " # como podemos ver, tenemos 2 variables con sus valores, y creó una tercera variable que tendra de valor la suma de las 2 variables anteriores, el resultado de una suma, esta variable la imprimo y tenemos el resultado"
   ]
  },
  {
   "cell_type": "code",
   "execution_count": 5,
   "metadata": {},
   "outputs": [
    {
     "name": "stdout",
     "output_type": "stream",
     "text": [
      "15\n"
     ]
    }
   ],
   "source": [
    "num1 = 10\n",
    "num2 = 5\n",
    "\n",
    "suma_de_2_variables = num1 + num2\n",
    "\n",
    "print(suma_de_2_variables)"
   ]
  },
  {
   "attachments": {},
   "cell_type": "markdown",
   "metadata": {},
   "source": [
    "podemos usar todos los operadores aritmeticos"
   ]
  },
  {
   "cell_type": "code",
   "execution_count": 11,
   "metadata": {},
   "outputs": [
    {
     "name": "stdout",
     "output_type": "stream",
     "text": [
      "500\n"
     ]
    }
   ],
   "source": [
    "num1 = 100\n",
    "num2 = 5\n",
    "\n",
    "suma_de_2_variables = num1 * num2\n",
    "\n",
    "print(suma_de_2_variables)"
   ]
  },
  {
   "attachments": {},
   "cell_type": "markdown",
   "metadata": {},
   "source": [
    "y claro, usar usar varios operadores"
   ]
  },
  {
   "cell_type": "code",
   "execution_count": 23,
   "metadata": {},
   "outputs": [
    {
     "name": "stdout",
     "output_type": "stream",
     "text": [
      "61\n",
      "346\n"
     ]
    }
   ],
   "source": [
    "operacion = 5 * 4 * 2 + 3 * 5 + 9 - 3\n",
    "\n",
    "print(operacion)\n",
    "\n",
    "# si a esta misma le agregamos unos parentesis, el resultado varia\n",
    "# recuerden las reglas de presedencia matematicas\n",
    "operacion2 = 5 * 4 * (2 + 3 * 5) + 9 - 3\n",
    "\n",
    "print(operacion2)"
   ]
  },
  {
   "attachments": {},
   "cell_type": "markdown",
   "metadata": {},
   "source": [
    "# no es obligatorio usar variables, podemos imprimir directamente la operación"
   ]
  },
  {
   "cell_type": "code",
   "execution_count": 6,
   "metadata": {},
   "outputs": [
    {
     "name": "stdout",
     "output_type": "stream",
     "text": [
      "132\n"
     ]
    }
   ],
   "source": [
    "print(20+16*7)"
   ]
  },
  {
   "attachments": {},
   "cell_type": "markdown",
   "metadata": {},
   "source": [
    "# y desde luego, esta formula aritmetica puede ser mas compleja"
   ]
  },
  {
   "cell_type": "code",
   "execution_count": 10,
   "metadata": {},
   "outputs": [
    {
     "name": "stdout",
     "output_type": "stream",
     "text": [
      "330\n"
     ]
    }
   ],
   "source": [
    "print(30*10+(5+5+20))"
   ]
  },
  {
   "attachments": {},
   "cell_type": "markdown",
   "metadata": {},
   "source": [
    "Les tengo un ejercicio rapido, miren esta formula, es simple, creen una variable y traduzcan esa formula en el idioma de python, con los operadores aprendidos"
   ]
  },
  {
   "cell_type": "code",
   "execution_count": 32,
   "metadata": {},
   "outputs": [
    {
     "name": "stdout",
     "output_type": "stream",
     "text": [
      "15\n"
     ]
    }
   ],
   "source": [
    "a = (8+8) // 2 + 7\n",
    "print(a)"
   ]
  },
  {
   "cell_type": "code",
   "execution_count": 33,
   "metadata": {},
   "outputs": [
    {
     "name": "stdout",
     "output_type": "stream",
     "text": [
      "15\n"
     ]
    }
   ],
   "source": [
    "a = (8+8) // 2 + 7\n",
    "print(a)"
   ]
  },
  {
   "attachments": {},
   "cell_type": "markdown",
   "metadata": {},
   "source": [
    "ojo, algo a tener en cuenta, los valores a sumar no necesariamente deben de ser de tipo numerico, miren esto"
   ]
  },
  {
   "cell_type": "code",
   "execution_count": 21,
   "metadata": {},
   "outputs": [
    {
     "name": "stdout",
     "output_type": "stream",
     "text": [
      "Hola a todos\n"
     ]
    }
   ],
   "source": [
    "saludo_1 = \"Hola\"\n",
    "saludo_2 = \" a todos\"\n",
    "\n",
    "saludos = saludo_1+saludo_2\n",
    "\n",
    "print(saludos)"
   ]
  },
  {
   "attachments": {},
   "cell_type": "markdown",
   "metadata": {},
   "source": [
    "si antes creamos una frase usando string y y variables con string, combinemos con enteros y operadores aritmeticos"
   ]
  },
  {
   "cell_type": "code",
   "execution_count": 30,
   "metadata": {},
   "outputs": [
    {
     "name": "stdout",
     "output_type": "stream",
     "text": [
      "en la canasta hay 10 manzanas\n"
     ]
    }
   ],
   "source": [
    "cantidad = 10\n",
    "fruta = \"manzanas\"\n",
    "\n",
    "print(\"en la canasta hay\",cantidad,fruta)"
   ]
  },
  {
   "cell_type": "code",
   "execution_count": 29,
   "metadata": {},
   "outputs": [
    {
     "name": "stdout",
     "output_type": "stream",
     "text": [
      "Cuantas manzanas quedaron luego de regalar 3 manzanas ?\n",
      "Quedaron 7 manzanas en la canasta\n"
     ]
    }
   ],
   "source": [
    "cantidad=10\n",
    "fruta='manzanas'\n",
    "\n",
    "\n",
    "print(\"Cuantas\",fruta,\"quedaron luego de regalar\",3,fruta,\"?\")\n",
    "print(\"Quedaron\",cantidad-3,fruta,\"en la canasta\")"
   ]
  },
  {
   "attachments": {},
   "cell_type": "markdown",
   "metadata": {},
   "source": [
    "Realicen ustedes una frase usando variables con datos numericos, datos string y redactando en un print\n",
    "\n",
    "cambien el 10, la palabra manzana, agregen 2 enteros o un float mas o 4 string mas, vamos, empiecen"
   ]
  },
  {
   "attachments": {},
   "cell_type": "markdown",
   "metadata": {},
   "source": [
    "# siguiente tema"
   ]
  },
  {
   "attachments": {},
   "cell_type": "markdown",
   "metadata": {},
   "source": [
    "# ."
   ]
  },
  {
   "attachments": {},
   "cell_type": "markdown",
   "metadata": {},
   "source": [
    "Vamos a redactar una variable que inicia con 0\n",
    "\n",
    "y vamos a ir actualizando dicha variable de a poco\n",
    "\n",
    "(anotar las variables y su asignacion todo junto)\n",
    "\n",
    "pero veamos ahora que paso en cada linea, esto lo podemos ver si imprimimos en cada linea\n",
    "\n",
    "(imprimir en cada linea nueva)\n",
    "\n",
    "ahora podemos ver mejor que paso en cada linea, como el 0 fue actulizandoce "
   ]
  },
  {
   "cell_type": "code",
   "execution_count": 1,
   "metadata": {},
   "outputs": [
    {
     "name": "stdout",
     "output_type": "stream",
     "text": [
      "5\n",
      "3\n",
      "9\n",
      "3.0\n",
      "9.0\n",
      "1.0\n"
     ]
    }
   ],
   "source": [
    "a = 0 # Inicia en cero\n",
    "\n",
    "a += 5 # suma en asignación\n",
    "print(a)\n",
    "a -= 2 # resta en asignación\n",
    "print(a)\n",
    "a *= 3 # multiplicación en asignación\n",
    "print(a)\n",
    "a /= 3 # división en asignación\n",
    "print(a)\n",
    "a **=2 # potencia en asignación\n",
    "print(a)\n",
    "a %=2 # modulo en asignación\n",
    "\n",
    "print(a)"
   ]
  },
  {
   "attachments": {},
   "cell_type": "markdown",
   "metadata": {},
   "source": [
    "con esto digamos el como funciona un cajero automatico, si mi cuenta inicial es de millón y tanto, cada que yo extraiga, el algoritmo lo que hace es agregar una linea con la reducción, en lugar de alterar mi mi numero de cuenta inicial"
   ]
  },
  {
   "cell_type": "code",
   "execution_count": 25,
   "metadata": {},
   "outputs": [
    {
     "name": "stdout",
     "output_type": "stream",
     "text": [
      "2680000\n"
     ]
    }
   ],
   "source": [
    "# saldo inicial\n",
    "saldo = 1500000\n",
    "# retiro\n",
    "saldo -= 20000\n",
    "# retiro\n",
    "saldo -= 300000\n",
    "# retiro\n",
    "saldo -= 500000\n",
    "# agregado\n",
    "saldo += 2000000\n",
    "\n",
    "# saldo final\n",
    "print(saldo)"
   ]
  },
  {
   "attachments": {},
   "cell_type": "markdown",
   "metadata": {},
   "source": [
    "# Cambio de tema"
   ]
  },
  {
   "attachments": {},
   "cell_type": "markdown",
   "metadata": {},
   "source": [
    "ok, necesitamos hacer comparaciones con numeros, usando operadores relacionales, vamos a imprimir directamente y veamos"
   ]
  },
  {
   "cell_type": "code",
   "execution_count": 5,
   "metadata": {},
   "outputs": [
    {
     "name": "stdout",
     "output_type": "stream",
     "text": [
      "True\n",
      "es 10 mayor que 20? False\n",
      "es 10 igual que 20? False\n",
      "True\n",
      "True\n",
      "True\n",
      "False\n"
     ]
    }
   ],
   "source": [
    "print(10 < 20)\n",
    "\n",
    "print(\"es 10 mayor que 20?\",10 > 20)\n",
    "\n",
    "print(\"es 10 igual que 20?\",10 == 20)\n",
    "\n",
    "print(10 != 20)\n",
    "\n",
    "print(10 <= 20)\n",
    "\n",
    "print(10 >= 10)\n",
    "\n",
    "print(10 >= 20)\n"
   ]
  },
  {
   "attachments": {},
   "cell_type": "markdown",
   "metadata": {},
   "source": [
    "Ahora usemos variables con valores\n",
    "\n",
    "\n",
    "tengo a que es igual a 10\n",
    "b que es igual a 20\n",
    "y c que es igual a 30"
   ]
  },
  {
   "cell_type": "code",
   "execution_count": 6,
   "metadata": {},
   "outputs": [
    {
     "name": "stdout",
     "output_type": "stream",
     "text": [
      "True\n",
      "False\n"
     ]
    }
   ],
   "source": [
    "a = 10\n",
    "b = 20\n",
    "c = 30\n",
    "\n",
    "print(a+b == c) # a mas b es igual a c?\n",
    "\n",
    "a = 10\n",
    "b = 20\n",
    "c = 30\n",
    "\n",
    "print(a+b != c) # a mas be es diferente a c?"
   ]
  },
  {
   "attachments": {},
   "cell_type": "markdown",
   "metadata": {},
   "source": [
    "usemos un ejemplo mas grafico para esto, hagamos un pequeño codigo de un problema o duda"
   ]
  },
  {
   "attachments": {},
   "cell_type": "markdown",
   "metadata": {},
   "source": [
    "# digamos que quiero hacer un codigo para verificar la mayoria de edad de alguien, creo mi variable de edad, y ahora necesito compararla, entonces hago una variable con la mayoria de edad\n",
    "\n",
    "hasta aqui todo bien,ahora imprimo buscando la relacion, si necesito saber si la persona es mayor de edad o no, debo usar el operador relacional mayor que, la variable mayor de edad"
   ]
  },
  {
   "cell_type": "code",
   "execution_count": 24,
   "metadata": {},
   "outputs": [
    {
     "name": "stdout",
     "output_type": "stream",
     "text": [
      "False\n"
     ]
    }
   ],
   "source": [
    "mayor_de_edad = 18\n",
    "\n",
    "mi_edad = 15\n",
    "\n",
    "print(mi_edad>mayor_de_edad)"
   ]
  },
  {
   "attachments": {},
   "cell_type": "markdown",
   "metadata": {},
   "source": [
    "si actualizo la edad tendre otro resultado"
   ]
  },
  {
   "attachments": {},
   "cell_type": "markdown",
   "metadata": {},
   "source": [
    "pero si la edad es 18?\n",
    "\n",
    "que operador deberia usar?\n",
    "\n",
    "aqui vemos como "
   ]
  },
  {
   "cell_type": "code",
   "execution_count": 4,
   "metadata": {},
   "outputs": [
    {
     "name": "stdout",
     "output_type": "stream",
     "text": [
      "False\n"
     ]
    }
   ],
   "source": [
    "mayor_de_edad = 18\n",
    "\n",
    "mi_edad = 18\n",
    "\n",
    "print(mi_edad>mayor_de_edad)"
   ]
  },
  {
   "attachments": {},
   "cell_type": "markdown",
   "metadata": {},
   "source": [
    "si usamos \"mayor o igual\" tendremos el resultado que queremos, el rango de 18 en adelante en lugar de 19 en adelante como antes"
   ]
  },
  {
   "cell_type": "code",
   "execution_count": 2,
   "metadata": {},
   "outputs": [
    {
     "name": "stdout",
     "output_type": "stream",
     "text": [
      "True\n"
     ]
    }
   ],
   "source": [
    "mayor_de_edad = 18\n",
    "\n",
    "mi_edad = 18\n",
    "\n",
    "print(mi_edad>=mayor_de_edad)"
   ]
  },
  {
   "attachments": {},
   "cell_type": "markdown",
   "metadata": {},
   "source": [
    "esto dependera de que tipo de resultado booleano necesito"
   ]
  },
  {
   "attachments": {},
   "cell_type": "markdown",
   "metadata": {},
   "source": [
    "# otro tema"
   ]
  },
  {
   "attachments": {},
   "cell_type": "markdown",
   "metadata": {},
   "source": [
    "# "
   ]
  },
  {
   "attachments": {},
   "cell_type": "markdown",
   "metadata": {},
   "source": [
    "vamos a explicar el operador AND"
   ]
  },
  {
   "attachments": {},
   "cell_type": "markdown",
   "metadata": {},
   "source": [
    "queremos ir a playa, pero tenemos 2 variables que determian si vamos o no\n"
   ]
  },
  {
   "cell_type": "code",
   "execution_count": 7,
   "metadata": {},
   "outputs": [
    {
     "name": "stdout",
     "output_type": "stream",
     "text": [
      "True\n"
     ]
    }
   ],
   "source": [
    "hace_sol = True\n",
    "\n",
    "fin_de_semana = True\n",
    "\n",
    "ir_a_la_playa = hace_sol and fin_de_semana\n",
    "# si hace sol y es fin de semana, entonces vamos a la playa, pero\n",
    "print(ir_a_la_playa)"
   ]
  },
  {
   "attachments": {},
   "cell_type": "markdown",
   "metadata": {},
   "source": [
    "# cambio de tema"
   ]
  },
  {
   "cell_type": "code",
   "execution_count": 9,
   "metadata": {},
   "outputs": [
    {
     "name": "stdout",
     "output_type": "stream",
     "text": [
      "True\n"
     ]
    }
   ],
   "source": [
    "hace_sol = False\n",
    "\n",
    "fin_de_semana = True\n",
    "\n",
    "ir_a_la_playa = hace_sol or fin_de_semana\n",
    "# si hace sol o es fin de semana, entonces vamos a la playa, pero\n",
    "print(ir_a_la_playa)"
   ]
  },
  {
   "attachments": {},
   "cell_type": "markdown",
   "metadata": {},
   "source": [
    "Vamos a otro ejemplo\n",
    "\n",
    "digamos que para entrar a un bar, necesitamos la mayoria de edad no?\n",
    "\n",
    "todos compartiendo pantalla y escriban, vamos a Visual Studio\n",
    "\n",
    "(escribir codigo)\n"
   ]
  },
  {
   "cell_type": "code",
   "execution_count": 9,
   "metadata": {},
   "outputs": [
    {
     "name": "stdout",
     "output_type": "stream",
     "text": [
      "Puede pasar? True\n"
     ]
    }
   ],
   "source": [
    "# entrar a un bar\n",
    "\n",
    "mayor_de_edad = 18\n",
    "\n",
    "mi_edad = 35\n",
    "\n",
    "print(\"Puede pasar?\",mi_edad>=mayor_de_edad)"
   ]
  },
  {
   "attachments": {},
   "cell_type": "markdown",
   "metadata": {},
   "source": [
    "\n",
    "por ahora entonces, nos dice que podemos\n",
    "\n",
    "pero y si tambien nos pide el traer el documento de identidad?"
   ]
  },
  {
   "cell_type": "code",
   "execution_count": 15,
   "metadata": {},
   "outputs": [
    {
     "name": "stdout",
     "output_type": "stream",
     "text": [
      "Puede pasar? True\n"
     ]
    }
   ],
   "source": [
    "# entrar a un bar\n",
    "\n",
    "mayor_de_edad = 18\n",
    "\n",
    "mi_edad = 21\n",
    "\n",
    "documento_identidad = True\n",
    "\n",
    "# puedo pasar? mi edad es mayor o igual a mayor de edad? y ademas, tengo mi documento?\n",
    "print(\"Puede pasar?\",mi_edad>=mayor_de_edad and documento_identidad)\n"
   ]
  },
  {
   "attachments": {},
   "cell_type": "markdown",
   "metadata": {},
   "source": [
    "(desde este punto, que todos escriban)\n",
    "\n",
    "pero que pasa si no traigo el documento? (documento_identidad = False )\n",
    "\n",
    "vamos, escriban el codigo, pero cambien True por False, ojo la inicial de estos 2 valores siempre en mayus\n",
    "\n",
    "optendremos un falso, ya que aunque le diga al guardia que tengo la mayoria de edad, necesito portar mi documento"
   ]
  },
  {
   "attachments": {},
   "cell_type": "markdown",
   "metadata": {},
   "source": [
    "Pero, y si no traje mi documento de identidad, pero si traje mi licencia de conducir? a fin de cuentas tambien avala mi mayoria de edad aunque NO sea el documento de identidad, escribamos la variable licencia_conduccion = True"
   ]
  },
  {
   "cell_type": "code",
   "execution_count": 16,
   "metadata": {},
   "outputs": [
    {
     "name": "stdout",
     "output_type": "stream",
     "text": [
      "Puede pasar? True\n"
     ]
    }
   ],
   "source": [
    "# entrar a un bar\n",
    "\n",
    "mayor_de_edad = 18\n",
    "\n",
    "mi_edad = 21\n",
    "\n",
    "documento_identidad = False\n",
    "licencia_conduccion = True\n",
    "\n",
    "# puedo pasar? mi edad es mayor o igual a mayor de edad? y ademas, tengo mi documento?\n",
    "# o traje mi licencia de conduccion?\n",
    "print(\"Puede pasar?\",mi_edad>=mayor_de_edad and documento_identidad or licencia_conduccion)"
   ]
  },
  {
   "attachments": {},
   "cell_type": "markdown",
   "metadata": {},
   "source": [
    "ok vamos entendiento como funciona, nos falta un operador.\n",
    "\n",
    "sigamos con el bar, ahora digamos que el guardia dice que aunque la licencia tiene la informacion de mi que confirma mi mayoria de edad y eso, pero segun su jefe, si o si debe ser el documento de identidad.\n",
    "\n",
    "lo que pasa aqui es que el guarda nos aplica el operador NOT"
   ]
  },
  {
   "attachments": {},
   "cell_type": "markdown",
   "metadata": {},
   "source": [
    "# cambio de tema"
   ]
  },
  {
   "cell_type": "code",
   "execution_count": 17,
   "metadata": {},
   "outputs": [
    {
     "name": "stdout",
     "output_type": "stream",
     "text": [
      "Puede pasar? False\n"
     ]
    }
   ],
   "source": [
    "# entrar a un bar\n",
    "\n",
    "mayor_de_edad = 18\n",
    "\n",
    "mi_edad = 21\n",
    "\n",
    "documento_identidad = False\n",
    "licencia_conduccion = True\n",
    "\n",
    "# puedo pasar? mi edad es mayor o igual a mayor de edad? y ademas, tengo mi documento?\n",
    "# o traje mi licencia de conduccion?\n",
    "print(\"Puede pasar?\",mi_edad>=mayor_de_edad and documento_identidad or (not licencia_conduccion))"
   ]
  },
  {
   "attachments": {},
   "cell_type": "markdown",
   "metadata": {},
   "source": [
    "Entonces, para que nos sirven estos operadores logicos?\n",
    "\n",
    "para crear diferentes vias en el cual, nuestro codigo trabajara"
   ]
  },
  {
   "attachments": {},
   "cell_type": "markdown",
   "metadata": {},
   "source": [
    "# cambio de tema"
   ]
  }
 ],
 "metadata": {
  "kernelspec": {
   "display_name": "Python 3",
   "language": "python",
   "name": "python3"
  },
  "language_info": {
   "codemirror_mode": {
    "name": "ipython",
    "version": 3
   },
   "file_extension": ".py",
   "mimetype": "text/x-python",
   "name": "python",
   "nbconvert_exporter": "python",
   "pygments_lexer": "ipython3",
   "version": "3.11.0"
  },
  "orig_nbformat": 4,
  "vscode": {
   "interpreter": {
    "hash": "aee8b7b246df8f9039afb4144a1f6fd8d2ca17a180786b69acc140d282b71a49"
   }
  }
 },
 "nbformat": 4,
 "nbformat_minor": 2
}
