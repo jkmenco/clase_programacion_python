{
 "cells": [
  {
   "attachments": {},
   "cell_type": "markdown",
   "metadata": {},
   "source": [
    "Aqui tenemos una variable con un input de un numero entero\n",
    "\n",
    "Quien me puede explicar que sucede aqui?\n",
    "\n",
    "\n",
    "nos pide un numero positivo, la condicion evala si el numero es positivo, osea, si es menor a 0, en caso de que sea veradero, arrojara el mensaje \"*¡Le he dicho que escriba un número positivo!*\" informando que ha pasado\n",
    "\n",
    "en caso que no se cumpla la condición el mensaje de aviso no aparecera"
   ]
  },
  {
   "cell_type": "code",
   "execution_count": 9,
   "metadata": {},
   "outputs": [
    {
     "name": "stdout",
     "output_type": "stream",
     "text": [
      "¡Le he dicho que escriba un número positivo!\n",
      "Ha escrito el número -4\n"
     ]
    }
   ],
   "source": [
    "num = int(input(\"Escriba un número positivo: \"))\n",
    "if num < 0:\n",
    "    print(\"¡Le he dicho que escriba un número positivo!\")\n",
    "print(f\"Ha escrito el número {num}\")"
   ]
  },
  {
   "attachments": {},
   "cell_type": "markdown",
   "metadata": {},
   "source": [
    "Hay algo distinto y nuevo a entender en este codigo, y es el espacio en blanco en el que print esta, ese espacio se llama identación, para el español lo mas correcto seria decir, sangrado o sangria, pero no es una regla en piedra, en fin, esto significa que hemos movido un bloque de texto hacia la derecha con una tabulación, esto nos ayuda a distingir mejor cono trabaja el codigo, pero no solo eso, tambien indica al computador que este print trabaja para if"
   ]
  },
  {
   "attachments": {},
   "cell_type": "markdown",
   "metadata": {},
   "source": [
    "# Cambio de tema"
   ]
  },
  {
   "attachments": {},
   "cell_type": "markdown",
   "metadata": {},
   "source": [
    "volvemos a nuestro codigo de numero positivo\n",
    "\n",
    "si el if se cumple, mostrara un mensaje, ahora aplicamos un ehls y rellenamos la ruta alternativa"
   ]
  },
  {
   "cell_type": "code",
   "execution_count": 13,
   "metadata": {},
   "outputs": [
    {
     "name": "stdout",
     "output_type": "stream",
     "text": [
      "¡Su número es positivo!\n",
      "Ha escrito el número 4\n"
     ]
    }
   ],
   "source": [
    "num = int(input(\"Escriba un número positivo: \"))\n",
    "if num < 0:\n",
    "    print(\"¡Le he dicho que escriba un número positivo!\")\n",
    "else:\n",
    "    print(f\"¡Su número es positivo!\")\n",
    "print(f\"Ha escrito el número {num}\")"
   ]
  },
  {
   "attachments": {},
   "cell_type": "markdown",
   "metadata": {},
   "source": [
    "Como se dijo antes, ehls no requiere mas comprobación, su mera aparicion esta determinada por if\n",
    "\n",
    "y solo basta con crear la acción"
   ]
  },
  {
   "attachments": {},
   "cell_type": "markdown",
   "metadata": {},
   "source": [
    "# Cambio de tema"
   ]
  },
  {
   "attachments": {},
   "cell_type": "markdown",
   "metadata": {},
   "source": [
    "añadamos una linea abajo de la linea de ejecucion de if\n",
    "\n",
    "y creemos una nueva condición diferente a la anterior"
   ]
  },
  {
   "cell_type": "code",
   "execution_count": 15,
   "metadata": {},
   "outputs": [
    {
     "name": "stdout",
     "output_type": "stream",
     "text": [
      "No puedo trabajar con su número\n",
      "Ha escrito el número 0\n"
     ]
    }
   ],
   "source": [
    "num = int(input(\"Escriba un número positivo: \"))\n",
    "if num < 0:\n",
    "    print(\"¡Le he dicho que escriba un número positivo!\")\n",
    "elif num == 0:\n",
    "    print(f\"No puedo trabajar con su número\")\n",
    "else:\n",
    "    print(f\"¡Su número es positivo!\")\n",
    "print(f\"Ha escrito el número {num}\")"
   ]
  },
  {
   "attachments": {},
   "cell_type": "markdown",
   "metadata": {},
   "source": [
    "ahora si el if se cumple osea, un numero negativo, se activara el mensaje, si no, pasara a ver si el numero es 0 y si nada de eso se cumple, entonces es que el usuario digito un numero positivo y terminara el programa "
   ]
  },
  {
   "attachments": {},
   "cell_type": "markdown",
   "metadata": {},
   "source": [
    "# siguiente tema"
   ]
  },
  {
   "cell_type": "code",
   "execution_count": null,
   "metadata": {},
   "outputs": [],
   "source": [
    "numero = int(input(\"Ingrese su nota: \"))\n",
    "if numero < 1 or numero > 7:\n",
    "  print(\"Error en el numero ingresado!\")\n",
    "else:\n",
    "  if numero < 4 :\n",
    "    print(\"Reprobado\")\n",
    "  elif numero >= 4 and numero < 5:\n",
    "    print(\"Regular\")\n",
    "  elif numero >= 5 and numero < 6:\n",
    "    print(\"Ok\")\n",
    "  else:\n",
    "    print(\"Bien!\")"
   ]
  },
  {
   "cell_type": "code",
   "execution_count": 18,
   "metadata": {},
   "outputs": [],
   "source": [
    "a = int(input(\"Lado 1: \"))\n",
    "b = int(input(\"Lado 2: \"))\n",
    "c = int(input(\"Lado 3: \"))\n",
    "if a + b > c:\n",
    "  print(\"No es un triangulo!\")\n",
    "else:\n",
    "    print('')"
   ]
  }
 ],
 "metadata": {
  "kernelspec": {
   "display_name": "Python 3",
   "language": "python",
   "name": "python3"
  },
  "language_info": {
   "codemirror_mode": {
    "name": "ipython",
    "version": 3
   },
   "file_extension": ".py",
   "mimetype": "text/x-python",
   "name": "python",
   "nbconvert_exporter": "python",
   "pygments_lexer": "ipython3",
   "version": "3.11.0"
  },
  "orig_nbformat": 4
 },
 "nbformat": 4,
 "nbformat_minor": 2
}
