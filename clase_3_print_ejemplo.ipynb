{
 "cells": [
  {
   "attachments": {},
   "cell_type": "markdown",
   "metadata": {},
   "source": [
    "ahora, aqui tenemos una variable con un valor de entero, osea valor numerico entero, si imprimo esto, no obetendre el nombre de la variable, si no, su valor claro esta, pero\n",
    "\n",
    "y si quiero imprimir el nombre de la variable?\n",
    "\n",
    "facilmente en la función print y cerrar la varible en comillas, recordemos, todo lo que este encerrado en comilla ES tipo String"
   ]
  },
  {
   "cell_type": "code",
   "execution_count": 2,
   "metadata": {},
   "outputs": [
    {
     "name": "stdout",
     "output_type": "stream",
     "text": [
      "10\n",
      "valor\n"
     ]
    }
   ],
   "source": [
    "valor=10\n",
    "\n",
    "print(valor)\n",
    "\n",
    "print(\"valor\")"
   ]
  },
  {
   "attachments": {},
   "cell_type": "markdown",
   "metadata": {},
   "source": [
    "Si combinamos lo anterior, tenemos entonces que valor es igual a 10, pero si ahora, repito la variable pero con un valor diferente, apartir de este punto, el valor ya no es de tipo entero"
   ]
  },
  {
   "cell_type": "code",
   "execution_count": 3,
   "metadata": {},
   "outputs": [
    {
     "name": "stdout",
     "output_type": "stream",
     "text": [
      "10\n",
      "Diez\n"
     ]
    }
   ],
   "source": [
    "valor=10\n",
    "\n",
    "print(valor)\n",
    "\n",
    "valor=\"Diez\"\n",
    "\n",
    "print(valor)"
   ]
  },
  {
   "attachments": {},
   "cell_type": "markdown",
   "metadata": {},
   "source": [
    "podemos crear fraces usando los datos de las variables, vemeamos como, tenemos 2 variables, tenemos nombre que es igual a alicia y tenemos edad que es igual a 35, como formamos una frase usando estos datos dentro de un print?"
   ]
  },
  {
   "cell_type": "code",
   "execution_count": 4,
   "metadata": {},
   "outputs": [
    {
     "name": "stdout",
     "output_type": "stream",
     "text": [
      "Me llamo Alicia y tengo 35 años\n"
     ]
    }
   ],
   "source": [
    "name=\"Alicia\"\n",
    "age=35\n",
    "\n",
    "print('Me llamo',name,'y tengo',age,'años')\n"
   ]
  },
  {
   "attachments": {},
   "cell_type": "markdown",
   "metadata": {},
   "source": [
    "Existen varias formas de como usar la funcion de print, para esto podemos investigar en la documentacion del mismo lenguaje, \n",
    "\n",
    "esto es algo que repetiremos muchas veces, y la forma correcta de investigar en este caso en google,\n",
    "\n",
    "es 1 en la documentacion del lenguaje o programa que usemos (en el discord les prepare algunas documentaciones interesantes, si no, siempre podemos googlear mas)\n",
    "\n",
    "y 2 en stacoverflow esta pagina digamos que es un foro de toda la vida, pero muy muy centrada en programacion y codigo, usemos ingles para aumentar los resultados\n",
    "\n",
    "la consulta debemos hacerla con primero el \"lenguaje\", segundo nuestra inquietud o problema y tercero en \"stackoverflow\""
   ]
  },
  {
   "attachments": {},
   "cell_type": "markdown",
   "metadata": {},
   "source": [
    "## python method for print"
   ]
  },
  {
   "attachments": {},
   "cell_type": "markdown",
   "metadata": {},
   "source": [
    "Usemos este metodo que en mi parecer es el mas comodo y favorito personal"
   ]
  },
  {
   "cell_type": "code",
   "execution_count": 1,
   "metadata": {},
   "outputs": [
    {
     "name": "stdout",
     "output_type": "stream",
     "text": [
      "Me llamo Alicia y tengo 35 años\n"
     ]
    }
   ],
   "source": [
    "name = \"Alicia\"\n",
    "age = 35\n",
    "\n",
    "print(f\"Me llamo {name} y tengo {age} años\")"
   ]
  },
  {
   "attachments": {},
   "cell_type": "markdown",
   "metadata": {},
   "source": [
    "creemos mas frases usando variables, podemos usar estas mismas o crear mas variables"
   ]
  },
  {
   "cell_type": "code",
   "execution_count": 9,
   "metadata": {},
   "outputs": [
    {
     "name": "stdout",
     "output_type": "stream",
     "text": [
      "24\n",
      "\n"
     ]
    }
   ],
   "source": [
    "\n",
    "dia = 24\n",
    "mes = \"Agosto\"\n",
    "año = 2015\n",
    "\n",
    "print(dia)\n"
   ]
  },
  {
   "cell_type": "markdown",
   "metadata": {},
   "source": [
    "print(\"el\",dia,\"de\",mes,\"del año\",año,\"la deportista \n",
    "Caterine Ibargüen ganó oro en salto triple, en el mundial de Pekín\")"
   ]
  },
  {
   "cell_type": "code",
   "execution_count": 8,
   "metadata": {},
   "outputs": [
    {
     "name": "stdout",
     "output_type": "stream",
     "text": [
      "el 24 de Agosto del año 2015 la deportista Caterine Ibargüen ganó oro en salto triple, en el mundial de Pekín\n"
     ]
    }
   ],
   "source": [
    "\n",
    "dia = 24\n",
    "mes = \"Agosto\"\n",
    "año = 2015\n",
    "\n",
    "print(\"el\",dia,\"de\",mes,\"del año\",año,\"la deportista Caterine Ibargüen ganó oro en salto triple, en el mundial de Pekín\")"
   ]
  },
  {
   "cell_type": "code",
   "execution_count": 3,
   "metadata": {},
   "outputs": [
    {
     "name": "stdout",
     "output_type": "stream",
     "text": [
      "Hola, buenos días\n"
     ]
    }
   ],
   "source": [
    "print('Hola, buenos días')"
   ]
  },
  {
   "attachments": {},
   "cell_type": "markdown",
   "metadata": {},
   "source": [
    "# Tiempo para resolver"
   ]
  }
 ],
 "metadata": {
  "kernelspec": {
   "display_name": "Python 3.11.0 64-bit",
   "language": "python",
   "name": "python3"
  },
  "language_info": {
   "codemirror_mode": {
    "name": "ipython",
    "version": 3
   },
   "file_extension": ".py",
   "mimetype": "text/x-python",
   "name": "python",
   "nbconvert_exporter": "python",
   "pygments_lexer": "ipython3",
   "version": "3.11.0"
  },
  "orig_nbformat": 4,
  "vscode": {
   "interpreter": {
    "hash": "aee8b7b246df8f9039afb4144a1f6fd8d2ca17a180786b69acc140d282b71a49"
   }
  }
 },
 "nbformat": 4,
 "nbformat_minor": 2
}
