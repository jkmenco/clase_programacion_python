{
 "cells": [
  {
   "attachments": {},
   "cell_type": "markdown",
   "metadata": {},
   "source": [
    "* Crear una carpeta de trabajo, el nombre de esta carpeta sin espacio y sin iniciar en mayúscula (para evitar conflicto con otros archivos)\n",
    "* Crear un archivo .py (mismos parámetros de nombre)\n",
    "* Crear una variable (siempre en minúscula la inicial)  ( nombre = “Jhonatan” )"
   ]
  },
  {
   "cell_type": "code",
   "execution_count": null,
   "metadata": {},
   "outputs": [],
   "source": [
    "nombre = \"Jhonatan\"\n",
    "\n",
    "etiqueta = 230"
   ]
  },
  {
   "attachments": {},
   "cell_type": "markdown",
   "metadata": {},
   "source": [
    "\n",
    "2 cosas a tener en cuenta\n",
    "\n",
    "1. *“etiquetaColor”* no nos sirve para informar que contiene\n",
    "\n",
    "    Cuando el nombre de la variable tiene más palabras no podemos usar como separador un espacio, el lenguaje no lo interpretara bien, para esto cada nueva palabra inicial en mayúscula o separar con guión bajo, en otro momento veremos esto a mayor detalle.\n",
    "\n",
    "2. una variable no puede iniciar con mayúscula, siempre se inicia con minúscula\n",
    "\n",
    "(documentosArchivados = 23) aquí nos dice, documentos archivados y un 23, es decir, son 23 archivos archivados\n",
    "\n",
    "Si un número no nos ayuda como dato, bien puede ser una descripción textual, veamos\n"
   ]
  },
  {
   "cell_type": "code",
   "execution_count": null,
   "metadata": {},
   "outputs": [],
   "source": [
    "documentosArchivados = 23\n",
    "\n",
    "documentosArchivados = \"Lista de proyectos finalizados\""
   ]
  },
  {
   "attachments": {},
   "cell_type": "markdown",
   "metadata": {},
   "source": [
    "Bien si todo quedo claro, ahora renombren las variables que tenemos en ejemplo, sientanse libres de cambiar números o texto en el valor si para ustedes tiene mejor sentido"
   ]
  },
  {
   "cell_type": "code",
   "execution_count": null,
   "metadata": {},
   "outputs": [],
   "source": [
    "# mejorar la etiqueta \n",
    "etiqueta = 230\n",
    "\n"
   ]
  },
  {
   "cell_type": "code",
   "execution_count": null,
   "metadata": {},
   "outputs": [],
   "source": [
    "# Plato con ingredientes: la persona \n",
    "# escribe un plato típico costeño y los ingredientes en forma de variables \n",
    "\n",
    "panTajado = 4\n",
    "rebanadasDeQueso = 4\n",
    "pechugaDePollo = 1\n",
    "lechugaFresca = \"Cortado muy fino\"\n",
    "rodajasFinasDeTomates = 4\n",
    "frascoDeMayonesa = 1\n",
    "sal = \"Al gusto\"\n",
    "pimientaMolida = \"Al gusto\"\n",
    "mantequilla = 1/4"
   ]
  }
 ],
 "metadata": {
  "kernelspec": {
   "display_name": "Python 3",
   "language": "python",
   "name": "python3"
  },
  "language_info": {
   "name": "python",
   "version": "3.11.0"
  },
  "orig_nbformat": 4
 },
 "nbformat": 4,
 "nbformat_minor": 2
}
