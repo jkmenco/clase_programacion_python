{
 "cells": [
  {
   "attachments": {},
   "cell_type": "markdown",
   "metadata": {},
   "source": [
    "ok, vamos con algo facil, hagamos una funcion de saludo"
   ]
  },
  {
   "cell_type": "code",
   "execution_count": 7,
   "metadata": {},
   "outputs": [
    {
     "name": "stdout",
     "output_type": "stream",
     "text": [
      "Hola Jhonatan\n"
     ]
    }
   ],
   "source": [
    "# n significa que usara lo que ingresemos mas adelante y usara eso\n",
    "def greet(n):\n",
    "    print(f\"Hola {n}\")\n",
    "# hacemos nuestra variable con un input\n",
    "name = input(\"Escriba su nombre :\")\n",
    "\n",
    "# y ahora invocamos nuestra función anterior creada e ingresamos la variable en ella para que trabaje\n",
    "greet(name)"
   ]
  },
  {
   "attachments": {},
   "cell_type": "markdown",
   "metadata": {},
   "source": [
    "Podemos usar lo mismo pero ingresar todo en la funcion y que no requeira ingresar datos, veamos como"
   ]
  },
  {
   "cell_type": "code",
   "execution_count": 2,
   "metadata": {},
   "outputs": [
    {
     "name": "stdout",
     "output_type": "stream",
     "text": [
      "Hola Jhonatan\n"
     ]
    }
   ],
   "source": [
    "# sin usar variables para iniciar\n",
    "\n",
    "def greet():\n",
    "    name = input(\"Escriba su nombre :\")\n",
    "    print(f\"Hola {name}\")\n",
    "\n",
    "\n",
    "\n",
    "\n",
    "greet()"
   ]
  },
  {
   "attachments": {},
   "cell_type": "markdown",
   "metadata": {},
   "source": [
    "ingrese un string y de resultado otro string"
   ]
  },
  {
   "attachments": {},
   "cell_type": "markdown",
   "metadata": {},
   "source": [
    "hagamos una funcion de multiplicación"
   ]
  },
  {
   "cell_type": "code",
   "execution_count": 3,
   "metadata": {},
   "outputs": [
    {
     "name": "stdout",
     "output_type": "stream",
     "text": [
      "10\n",
      "\n",
      "3150\n",
      "\n"
     ]
    }
   ],
   "source": [
    "# esta tomara un valor seguido de otro, osea 2 variables o 2 valores directos\n",
    "\n",
    "def mult(x,y):\n",
    "    # ahora en un print hacemos el proceso\n",
    "    print(x*y)\n",
    "# ahora solo basta con \n",
    "mult(2,5)\n",
    "mult(42,75)"
   ]
  },
  {
   "attachments": {},
   "cell_type": "markdown",
   "metadata": {},
   "source": [
    "mejoremos esto con descripciones de que esta pasando"
   ]
  },
  {
   "cell_type": "code",
   "execution_count": 6,
   "metadata": {},
   "outputs": [
    {
     "name": "stdout",
     "output_type": "stream",
     "text": [
      "La multiplicación de 2 x 5 = 10\n",
      "La multiplicación de 42 x 75 = 3150\n"
     ]
    }
   ],
   "source": [
    "\n",
    "\n",
    "def mult(x,y):\n",
    "    print(f\"La multiplicación de {x} x {y} = {x*y}\")\n",
    "\n",
    "mult(2,5)\n",
    "mult(42,75)"
   ]
  },
  {
   "attachments": {},
   "cell_type": "markdown",
   "metadata": {},
   "source": [
    "ingrese enteros y obtube de resultados mas enteros"
   ]
  },
  {
   "attachments": {},
   "cell_type": "markdown",
   "metadata": {},
   "source": [
    "Bueno como podemos ver aqui, ingresamos un tipo de datos y obtubimos un tipo de dato\n",
    "\n",
    "esto claramente lo podemos controlar, ya sabe, con las funciones indegradas, si ingreso enteros pero necesito que al final sean flotantes o un booleano eccetera.\n",
    "\n",
    "eso si, hay otra forma de furmular el trato final de los datos, veamos como es"
   ]
  },
  {
   "attachments": {},
   "cell_type": "markdown",
   "metadata": {},
   "source": [
    "ahora veamos que pasa cuando hacemos retorno de valor"
   ]
  },
  {
   "cell_type": "code",
   "execution_count": 13,
   "metadata": {},
   "outputs": [
    {
     "name": "stdout",
     "output_type": "stream",
     "text": [
      "hola\n"
     ]
    }
   ],
   "source": [
    "def saludo():\n",
    "    return 'hola'\n",
    "\n",
    "print(saludo())"
   ]
  },
  {
   "attachments": {},
   "cell_type": "markdown",
   "metadata": {},
   "source": [
    "aqui creamos una funcion de salido que retorna un string, al imprimirlo pues, tenemos el string"
   ]
  },
  {
   "attachments": {},
   "cell_type": "markdown",
   "metadata": {},
   "source": [
    "Veamos otra, hagamos una suma"
   ]
  },
  {
   "cell_type": "code",
   "execution_count": 9,
   "metadata": {},
   "outputs": [
    {
     "name": "stdout",
     "output_type": "stream",
     "text": [
      "3\n"
     ]
    }
   ],
   "source": [
    "def suma(a, b):\n",
    "    # hasta aqui, todo en orden\n",
    "    # ahora lo que hacemos es usar la palabra recervada return\n",
    "    # y especificamos la suma alli\n",
    "  return a + b\n",
    "\n",
    "result = suma(1,2)\n",
    "\n",
    "print(result)"
   ]
  },
  {
   "attachments": {},
   "cell_type": "markdown",
   "metadata": {},
   "source": [
    "vamos con otro ejemplo, una multiplicación"
   ]
  },
  {
   "cell_type": "code",
   "execution_count": 14,
   "metadata": {},
   "outputs": [
    {
     "name": "stdout",
     "output_type": "stream",
     "text": [
      "12\n"
     ]
    }
   ],
   "source": [
    "def multiplicar(num1,num2):\n",
    "    # establesco que recibira 2 variables\n",
    "    mult = num1*num2\n",
    "    # establesco que la variable mult sera \n",
    "    return mult\n",
    "\n",
    "\n",
    "mult = multiplicar(3,4)\n",
    "\n",
    "print(mult)"
   ]
  },
  {
   "attachments": {},
   "cell_type": "markdown",
   "metadata": {},
   "source": [
    "entonces, podemos crear una funcion sin retorno de valores y una con retorno de valores"
   ]
  },
  {
   "attachments": {},
   "cell_type": "markdown",
   "metadata": {},
   "source": [
    "entonces, cual es la diferencia entre las 2? que en una realizo una actividad y ya, en la otra, pido los resultado, si necesito que una variable actualice un dato, por ejemplo, la funcion debe retornar valor hacia ella"
   ]
  },
  {
   "attachments": {},
   "cell_type": "markdown",
   "metadata": {},
   "source": [
    "hay una tercera forma, una funcion recursiva"
   ]
  },
  {
   "cell_type": "code",
   "execution_count": 30,
   "metadata": {},
   "outputs": [
    {
     "name": "stdout",
     "output_type": "stream",
     "text": [
      "1\n",
      "2\n",
      "3\n",
      "4\n",
      "5\n",
      "6\n",
      "7\n",
      "8\n",
      "9\n",
      "10\n",
      "programa terminado\n"
     ]
    }
   ],
   "source": [
    "def count_num(n):\n",
    "    if n <11:\n",
    "        print(n)\n",
    "        count_num(n +1)\n",
    "    else:\n",
    "        print(\"programa terminado\")    \n",
    "\n",
    "\n",
    "count_num(1)"
   ]
  },
  {
   "attachments": {},
   "cell_type": "markdown",
   "metadata": {},
   "source": [
    "veamos una cuenta regresiva"
   ]
  },
  {
   "cell_type": "code",
   "execution_count": 29,
   "metadata": {},
   "outputs": [
    {
     "name": "stdout",
     "output_type": "stream",
     "text": [
      "5\n",
      "4\n",
      "3\n",
      "2\n",
      "1\n",
      "Boooom!!!\n"
     ]
    }
   ],
   "source": [
    "# establecemos el nombre\n",
    "def Countdown(num):\n",
    "    # creamos una condición\n",
    "    if num>0:\n",
    "        # las acciones que es imprimir el numero\n",
    "        print(num)\n",
    "        # e invocamos la funcion dentro de ella pero restandole 1\n",
    "        Countdown(num - 1)\n",
    "    else:\n",
    "        # y cuando el if ya no se cumpla, que aparesca este mensaje\n",
    "        print(\"Boooom!!!\")\n",
    "# creamos la variable que capture un numero\n",
    "num = int(input(\"Digite un número => \")) \n",
    "# y ahora invocamos la funcion\n",
    "Countdown(num)"
   ]
  },
  {
   "attachments": {},
   "cell_type": "markdown",
   "metadata": {},
   "source": [
    "# cambio de tema"
   ]
  }
 ],
 "metadata": {
  "kernelspec": {
   "display_name": "Python 3",
   "language": "python",
   "name": "python3"
  },
  "language_info": {
   "codemirror_mode": {
    "name": "ipython",
    "version": 3
   },
   "file_extension": ".py",
   "mimetype": "text/x-python",
   "name": "python",
   "nbconvert_exporter": "python",
   "pygments_lexer": "ipython3",
   "version": "3.11.0"
  },
  "orig_nbformat": 4
 },
 "nbformat": 4,
 "nbformat_minor": 2
}
