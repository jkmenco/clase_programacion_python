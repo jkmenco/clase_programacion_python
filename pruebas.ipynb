{
 "cells": [
  {
   "cell_type": "code",
   "execution_count": 1,
   "metadata": {},
   "outputs": [
    {
     "name": "stdout",
     "output_type": "stream",
     "text": [
      "Me llamo Alicia y tengo 35 años\n",
      "Mi reloj costo $2.7\n",
      "\n",
      "Alicia es mayor de edad?\n",
      "True\n",
      "<class 'str'>\n",
      "<class 'int'>\n",
      "<class 'float'>\n",
      "<class 'bool'>\n"
     ]
    }
   ],
   "source": [
    "name = \"Alicia\"\n",
    "age = 35\n",
    "value = 2.7\n",
    "item = \"reloj\"\n",
    "\n",
    "result = age >= 18\n",
    "\n",
    "print(f\"Me llamo {name} y tengo {age} años\\nMi {item} costo ${value}\")\n",
    "print()\n",
    "print(f'Alicia es mayor de edad?\\n{result}')\n",
    "\n",
    "print(type(name))\n",
    "print(type(age))\n",
    "print(type(value))\n",
    "print(type(result))"
   ]
  },
  {
   "cell_type": "code",
   "execution_count": 4,
   "metadata": {},
   "outputs": [
    {
     "name": "stdout",
     "output_type": "stream",
     "text": [
      "en la canasta hay 10 manzanas\n"
     ]
    }
   ],
   "source": [
    "cantidad = 10\n",
    "fruta = \"manzanas\"\n",
    "\n",
    "print(\"en la canasta hay\",cantidad,fruta)"
   ]
  },
  {
   "cell_type": "code",
   "execution_count": 5,
   "metadata": {},
   "outputs": [
    {
     "name": "stdout",
     "output_type": "stream",
     "text": [
      "Cuantas manzanas quedaron luego de regalar 3 manzanas ?\n",
      "Quedaron 7 manzanas en la canasta\n"
     ]
    }
   ],
   "source": [
    "\n",
    "cantidad=10\n",
    "fruta='manzanas'\n",
    "resta=3\n",
    "resultado=cantidad-resta\n",
    "\n",
    "\n",
    "print(\"Cuantas\",fruta,\"quedaron luego de regalar\",resta,fruta,\"?\")\n",
    "print(\"Quedaron\",resultado,fruta,\"en la canasta\")"
   ]
  },
  {
   "cell_type": "code",
   "execution_count": 2,
   "metadata": {},
   "outputs": [
    {
     "name": "stdout",
     "output_type": "stream",
     "text": [
      "Me llamo Alicia y tengo 15 años\n",
      "Mi reloj costo $2.7\n",
      "\n",
      "Alicia es mayor de edad?\n",
      "Es menor de edad\n"
     ]
    }
   ],
   "source": [
    "name = \"Alicia\"\n",
    "age = 15\n",
    "value = 2.7\n",
    "item = \"reloj\"\n",
    "\n",
    "result = age >= 18\n",
    "result1 = \"\"\n",
    "\n",
    "if result == True:\n",
    "    result1 = \"Es mayor de edad\"\n",
    "else:\n",
    "    result1 = \"Es menor de edad\"\n",
    "\n",
    "print(f\"Me llamo {name} y tengo {age} años\\nMi {item} costo ${value}\")\n",
    "print()\n",
    "\n",
    "print(f'Alicia es mayor de edad?\\n{result1}')"
   ]
  }
 ],
 "metadata": {
  "kernelspec": {
   "display_name": "Python 3.11.0 64-bit",
   "language": "python",
   "name": "python3"
  },
  "language_info": {
   "codemirror_mode": {
    "name": "ipython",
    "version": 3
   },
   "file_extension": ".py",
   "mimetype": "text/x-python",
   "name": "python",
   "nbconvert_exporter": "python",
   "pygments_lexer": "ipython3",
   "version": "3.11.0"
  },
  "orig_nbformat": 4,
  "vscode": {
   "interpreter": {
    "hash": "aee8b7b246df8f9039afb4144a1f6fd8d2ca17a180786b69acc140d282b71a49"
   }
  }
 },
 "nbformat": 4,
 "nbformat_minor": 2
}
