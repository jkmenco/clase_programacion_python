{
 "cells": [
  {
   "attachments": {},
   "cell_type": "markdown",
   "metadata": {},
   "source": [
    "Antes vimos que si tenemos una varaible con un 10 entre comillas, este es un string, pero si uso la funcion integral int() lo convierto en un entero y ya puedo usarlo como numero"
   ]
  },
  {
   "cell_type": "markdown",
   "metadata": {},
   "source": []
  },
  {
   "attachments": {},
   "cell_type": "markdown",
   "metadata": {},
   "source": [
    "pero si tenemos esto, el valor diez mas el otro valor 10 que resultado nos dara?"
   ]
  },
  {
   "cell_type": "code",
   "execution_count": 4,
   "metadata": {},
   "outputs": [
    {
     "ename": "TypeError",
     "evalue": "can only concatenate str (not \"int\") to str",
     "output_type": "error",
     "traceback": [
      "\u001b[0;31m---------------------------------------------------------------------------\u001b[0m",
      "\u001b[0;31mTypeError\u001b[0m                                 Traceback (most recent call last)",
      "\u001b[1;32m/Users/carlosrios/Documents/Curso programacion Jhonatan Menco/clase_python/clase_6_funciones_integrales/clase_6.ipynb Cell 3\u001b[0m in \u001b[0;36m3\n\u001b[1;32m      <a href='vscode-notebook-cell:/Users/carlosrios/Documents/Curso%20programacion%20Jhonatan%20Menco/clase_python/clase_6_funciones_integrales/clase_6.ipynb#W4sZmlsZQ%3D%3D?line=0'>1</a>\u001b[0m num1 \u001b[39m=\u001b[39m \u001b[39m\"\u001b[39m\u001b[39m10\u001b[39m\u001b[39m\"\u001b[39m\n\u001b[1;32m      <a href='vscode-notebook-cell:/Users/carlosrios/Documents/Curso%20programacion%20Jhonatan%20Menco/clase_python/clase_6_funciones_integrales/clase_6.ipynb#W4sZmlsZQ%3D%3D?line=1'>2</a>\u001b[0m num2 \u001b[39m=\u001b[39m \u001b[39m10\u001b[39m\n\u001b[0;32m----> <a href='vscode-notebook-cell:/Users/carlosrios/Documents/Curso%20programacion%20Jhonatan%20Menco/clase_python/clase_6_funciones_integrales/clase_6.ipynb#W4sZmlsZQ%3D%3D?line=2'>3</a>\u001b[0m result_of_two_vaddition \u001b[39m=\u001b[39m num1\u001b[39m+\u001b[39;49mnum2\n\u001b[1;32m      <a href='vscode-notebook-cell:/Users/carlosrios/Documents/Curso%20programacion%20Jhonatan%20Menco/clase_python/clase_6_funciones_integrales/clase_6.ipynb#W4sZmlsZQ%3D%3D?line=4'>5</a>\u001b[0m \u001b[39mprint\u001b[39m(result_of_two_vaddition)\n",
      "\u001b[0;31mTypeError\u001b[0m: can only concatenate str (not \"int\") to str"
     ]
    }
   ],
   "source": [
    "num1 = \"10\"\n",
    "num2 = 10\n",
    "result_of_two_vaddition = num1+num2\n",
    "\n",
    "print(result_of_two_vaddition)"
   ]
  },
  {
   "attachments": {},
   "cell_type": "markdown",
   "metadata": {},
   "source": [
    "para solucionar esto debemos usar funciones integrales"
   ]
  },
  {
   "cell_type": "code",
   "execution_count": 3,
   "metadata": {},
   "outputs": [
    {
     "name": "stdout",
     "output_type": "stream",
     "text": [
      "20\n"
     ]
    }
   ],
   "source": [
    "num1 = int(\"10\")\n",
    "num2 = 10\n",
    "result_of_two_vaddition = num1+num2\n",
    "\n",
    "print(result_of_two_vaddition)"
   ]
  },
  {
   "attachments": {},
   "cell_type": "markdown",
   "metadata": {},
   "source": [
    "bueno, esto es algo que ya vimos, sabemos modificar el tipo de valores\n",
    "\n",
    "son muchos y podemos consultar las documentaciones de python para concer el resto, veamos algunas interesantes, por ejemplo, como convertimos un valor entero en un valor binario?"
   ]
  },
  {
   "cell_type": "code",
   "execution_count": 3,
   "metadata": {},
   "outputs": [
    {
     "name": "stdout",
     "output_type": "stream",
     "text": [
      "0b1010\n"
     ]
    }
   ],
   "source": [
    "num = bin(10)\n",
    "\n",
    "print(num)"
   ]
  },
  {
   "attachments": {},
   "cell_type": "markdown",
   "metadata": {},
   "source": [
    "convertir en hexadecimal"
   ]
  },
  {
   "cell_type": "code",
   "execution_count": 9,
   "metadata": {},
   "outputs": [
    {
     "name": "stdout",
     "output_type": "stream",
     "text": [
      "0xa\n"
     ]
    }
   ],
   "source": [
    "num = hex(10)\n",
    "\n",
    "print(num)"
   ]
  },
  {
   "attachments": {},
   "cell_type": "markdown",
   "metadata": {},
   "source": [
    "0x indican que es un valor hexadecimal y a es el valor en hexadecimal"
   ]
  },
  {
   "cell_type": "code",
   "execution_count": 14,
   "metadata": {},
   "outputs": [
    {
     "name": "stdout",
     "output_type": "stream",
     "text": [
      "<class 'int'>\n"
     ]
    }
   ],
   "source": [
    "num = int(\"0b1010\",2)\n",
    "print(type(num))"
   ]
  },
  {
   "attachments": {},
   "cell_type": "markdown",
   "metadata": {},
   "source": [
    "o como vimos antes, pasar hexadecimal a entero"
   ]
  },
  {
   "attachments": {},
   "cell_type": "markdown",
   "metadata": {},
   "source": [
    "entonces, el uso o no de una funcion integral dependera de nuestro trabajo, si necesitamos o no usarlas, mas adelante estaremos viendo como algo tan sencillo como contar los caracteres de un string, nos resulta muy util"
   ]
  },
  {
   "cell_type": "code",
   "execution_count": 2,
   "metadata": {},
   "outputs": [
    {
     "name": "stdout",
     "output_type": "stream",
     "text": [
      "8\n"
     ]
    }
   ],
   "source": [
    "name = \"Jhonatan\"\n",
    "\n",
    "print(len(name))"
   ]
  },
  {
   "attachments": {},
   "cell_type": "markdown",
   "metadata": {},
   "source": [
    "pasemos a un ejercicio"
   ]
  }
 ],
 "metadata": {
  "kernelspec": {
   "display_name": "Python 3",
   "language": "python",
   "name": "python3"
  },
  "language_info": {
   "codemirror_mode": {
    "name": "ipython",
    "version": 3
   },
   "file_extension": ".py",
   "mimetype": "text/x-python",
   "name": "python",
   "nbconvert_exporter": "python",
   "pygments_lexer": "ipython3",
   "version": "3.11.0"
  },
  "orig_nbformat": 4
 },
 "nbformat": 4,
 "nbformat_minor": 2
}
