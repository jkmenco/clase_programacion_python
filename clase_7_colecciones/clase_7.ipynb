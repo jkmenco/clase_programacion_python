{
 "cells": [
  {
   "attachments": {},
   "cell_type": "markdown",
   "metadata": {},
   "source": [
    "# Colecciones"
   ]
  },
  {
   "cell_type": "code",
   "execution_count": 33,
   "metadata": {},
   "outputs": [
    {
     "data": {
      "text/plain": [
       "list"
      ]
     },
     "execution_count": 33,
     "metadata": {},
     "output_type": "execute_result"
    }
   ],
   "source": [
    "list = []\n",
    "type(list)"
   ]
  },
  {
   "attachments": {},
   "cell_type": "markdown",
   "metadata": {},
   "source": [
    "si vemos, estas variables tienen información de los dias de la semana\n",
    "\n",
    "tenemos otra con los meses\n",
    "\n"
   ]
  },
  {
   "cell_type": "code",
   "execution_count": 7,
   "metadata": {},
   "outputs": [
    {
     "name": "stdout",
     "output_type": "stream",
     "text": [
      "('lunes', 'martes', 'miercoles', 'jueves', 'viernes')\n",
      "('enero', 'febrero', 'marzo', 'abril', 'mayo', 'junio', 'julio', 'agosto', 'septiembre', 'octubre', 'noviembre', 'diciembre')\n"
     ]
    }
   ],
   "source": [
    "days = [\"lunes\",\"martes\",\"miercoles\",\"jueves\",\"viernes\"]\n",
    "\n",
    "months = [\"enero\", \"febrero\", \"marzo\", \"abril\", \"mayo\", \"junio\", \"julio\", \"agosto\", \"septiembre\", \"octubre\", \"noviembre\" , \"diciembre\"]\n",
    "\n",
    "print(days)\n",
    "\n",
    "print(months)\n"
   ]
  },
  {
   "attachments": {},
   "cell_type": "markdown",
   "metadata": {},
   "source": [
    "podemos imprimir todo el contenido, pero y si quiero imprimir solo 1 objeto de dicha lista?"
   ]
  },
  {
   "attachments": {},
   "cell_type": "markdown",
   "metadata": {},
   "source": [
    "## Indices\n",
    "para ello, debo entender que la variable tipo lista gana un atributo nuevo, llamado indice\n",
    "\n",
    "el indice es la hubicación del objeto en la lista, y esto va de 0 en adelante"
   ]
  },
  {
   "cell_type": "code",
   "execution_count": 10,
   "metadata": {},
   "outputs": [
    {
     "name": "stdout",
     "output_type": "stream",
     "text": [
      "viernes\n"
     ]
    }
   ],
   "source": [
    "days = [\"lunes\",\"martes\",\"miercoles\",\"jueves\",\"viernes\"]\n",
    "        # 0         1          2        3       4\n",
    "\n",
    "print(days[4])"
   ]
  },
  {
   "attachments": {},
   "cell_type": "markdown",
   "metadata": {},
   "source": [
    "seleccionando la lista y abriendo corchete ingreso el valor del indice que quiero que muestre de izquierda a derecha iniciando en 0"
   ]
  },
  {
   "cell_type": "code",
   "execution_count": 11,
   "metadata": {},
   "outputs": [
    {
     "name": "stdout",
     "output_type": "stream",
     "text": [
      "martes\n"
     ]
    }
   ],
   "source": [
    "days = [\"lunes\",\"martes\",\"miercoles\",\"jueves\",\"viernes\"]\n",
    "        # -5         -4        -3      -2      -1\n",
    "#  digitar en negativo\n",
    "print(days[-4])"
   ]
  },
  {
   "attachments": {},
   "cell_type": "markdown",
   "metadata": {},
   "source": [
    "## Indice negativo\n",
    "si uso un valor negativo buscare de derecha hacia izquierda inciando desde -1"
   ]
  },
  {
   "attachments": {},
   "cell_type": "markdown",
   "metadata": {},
   "source": [
    "entonces, una lista es una variable que almacena mas de 1 valor, sigamos"
   ]
  },
  {
   "cell_type": "code",
   "execution_count": 26,
   "metadata": {},
   "outputs": [
    {
     "name": "stdout",
     "output_type": "stream",
     "text": [
      "['lunes', 'martes', 'miercoles', 'jueves', 'viernes', 40, 5.67, [1, 2, 3], True]\n",
      "<class 'list'>\n"
     ]
    }
   ],
   "source": [
    "days = [\"lunes\",\"martes\",\"miercoles\",\"jueves\",\"viernes\",40,5.67,[1,2,3],True]\n",
    "# las listas tienen todos los tipos de valores\n",
    "print(days)\n",
    "print(type(days))"
   ]
  },
  {
   "attachments": {},
   "cell_type": "markdown",
   "metadata": {},
   "source": [
    "# **cambio de tema**"
   ]
  },
  {
   "attachments": {},
   "cell_type": "markdown",
   "metadata": {},
   "source": [
    "# Sublista"
   ]
  },
  {
   "cell_type": "code",
   "execution_count": 3,
   "metadata": {},
   "outputs": [
    {
     "name": "stdout",
     "output_type": "stream",
     "text": [
      "Dias laborales: ['lunes', 'martes', 'miercoles', 'jueves', 'viernes']\n",
      "<class 'list'>\n"
     ]
    }
   ],
   "source": [
    "days = [\"lunes\",\"martes\",\"miercoles\",\"jueves\",\"viernes\", \"sabado\", \"domingo\"]\n",
    "\n",
    "print(f\"Dias laborales: {days[:5]}\")\n",
    "\n",
    "print(type(days[:5]))"
   ]
  },
  {
   "cell_type": "code",
   "execution_count": 2,
   "metadata": {},
   "outputs": [
    {
     "name": "stdout",
     "output_type": "stream",
     "text": [
      "[1, 2, 3]\n",
      "<class 'list'>\n"
     ]
    }
   ],
   "source": [
    "num1 = 1\n",
    "num2 = 2\n",
    "num3 = 3\n",
    "\n",
    "num_list = [num1,num2,num3]\n",
    "\n",
    "print(num_list)\n",
    "\n",
    "print(type(num_list))"
   ]
  },
  {
   "attachments": {},
   "cell_type": "markdown",
   "metadata": {},
   "source": [
    "# Funciones Integradas en lista"
   ]
  },
  {
   "cell_type": "code",
   "execution_count": 1,
   "metadata": {},
   "outputs": [
    {
     "name": "stdout",
     "output_type": "stream",
     "text": [
      "9\n"
     ]
    }
   ],
   "source": [
    "list = [\"lunes\",\"martes\",\"miercoles\",\"jueves\",\"viernes\",40,5.67,[1,2,3],True]\n",
    "# len() cuantos elementos hay?\n",
    "print(len(list))"
   ]
  },
  {
   "cell_type": "code",
   "execution_count": 2,
   "metadata": {},
   "outputs": [
    {
     "name": "stdout",
     "output_type": "stream",
     "text": [
      "[1, 2, 3, 4, 5, 6]\n"
     ]
    }
   ],
   "source": [
    "list = [1,2,3,4,5]\n",
    "# agregar elementos al final\n",
    "list.append(6)\n",
    "\n",
    "print(list)"
   ]
  },
  {
   "cell_type": "code",
   "execution_count": 27,
   "metadata": {},
   "outputs": [
    {
     "name": "stdout",
     "output_type": "stream",
     "text": [
      "[1, 2, 3, 4, 5, 6, 'Jhonatan']\n"
     ]
    }
   ],
   "source": [
    "list = [1,2,3,4,5]\n",
    "list.append(6)\n",
    "list.append('Jhonatan')\n",
    "\n",
    "print(list)"
   ]
  },
  {
   "cell_type": "code",
   "execution_count": 5,
   "metadata": {},
   "outputs": [
    {
     "name": "stdout",
     "output_type": "stream",
     "text": [
      "[1, 2, 3, 4, 5]\n"
     ]
    }
   ],
   "source": [
    "list = [1,2,4,5]\n",
    "# agregar elementos y elegir su posición\n",
    "list.insert(2,3)\n",
    "\n",
    "# Elegir en que posición añadimos un nuevo elemento\n",
    "# Esto requiere la posición\n",
    "# el valor\n",
    "\n",
    "print(list)"
   ]
  },
  {
   "cell_type": "code",
   "execution_count": 10,
   "metadata": {},
   "outputs": [
    {
     "name": "stdout",
     "output_type": "stream",
     "text": [
      "[1, 2, 3, 4, 5, 6, 7, 8]\n",
      "<class 'list'>\n"
     ]
    }
   ],
   "source": [
    "list = [1,2,3,4,5]\n",
    "# agregar varios elementos\n",
    "list.extend([6,7,8])\n",
    "\n",
    "print(list)\n",
    "print(type(list))"
   ]
  },
  {
   "cell_type": "code",
   "execution_count": 11,
   "metadata": {},
   "outputs": [
    {
     "name": "stdout",
     "output_type": "stream",
     "text": [
      "[1, 2, 3, 4, 5, 6, 7, 8]\n",
      "<class 'list'>\n"
     ]
    }
   ],
   "source": [
    "list1 = [1,2,3,4,5]\n",
    "list2 = [6,7,8]\n",
    "\n",
    "list3 = list1+list2\n",
    "\n",
    "print(list3)\n",
    "print(type(list3))"
   ]
  },
  {
   "cell_type": "code",
   "execution_count": 12,
   "metadata": {},
   "outputs": [
    {
     "name": "stdout",
     "output_type": "stream",
     "text": [
      "True\n"
     ]
    }
   ],
   "source": [
    "list = [1,2,3,4,5,'Jhonatan']\n",
    "# comprobar si existe un valor dentro de la lista\n",
    "print(2 in list)"
   ]
  },
  {
   "cell_type": "code",
   "execution_count": 15,
   "metadata": {},
   "outputs": [
    {
     "name": "stdout",
     "output_type": "stream",
     "text": [
      "4\n"
     ]
    }
   ],
   "source": [
    "list = [1,2,3,4,5,'Jhonatan']\n",
    "# posicion donde se encuentra el valor en la lista, cual es su indice?\n",
    "print(list.index(5))"
   ]
  },
  {
   "cell_type": "code",
   "execution_count": 16,
   "metadata": {},
   "outputs": [
    {
     "name": "stdout",
     "output_type": "stream",
     "text": [
      "4\n"
     ]
    }
   ],
   "source": [
    "list = [1,2,3,4,5,'Jhonatan',1,2,3,1,\"Jhonatan\",1]\n",
    "# cuenta, cuantas veces se repite el valor\n",
    "print(list.count(1))"
   ]
  },
  {
   "attachments": {},
   "cell_type": "markdown",
   "metadata": {},
   "source": [
    "para eliminar.\n",
    "anotamos la posicion del indice que queremos borrar\n",
    "sin nada, eliminara lo ultimo."
   ]
  },
  {
   "cell_type": "code",
   "execution_count": 30,
   "metadata": {},
   "outputs": [
    {
     "name": "stdout",
     "output_type": "stream",
     "text": [
      "[1, 2, 3, 4, 5, 'Jhonatan']\n",
      "[1, 3, 4, 5, 'Jhonatan']\n",
      "[1, 3, 4, 5]\n"
     ]
    }
   ],
   "source": [
    "list = [1,2,3,4,5,'Jhonatan']\n",
    "print(list)\n",
    "list.pop(1)\n",
    "print(list)\n",
    "\n",
    "list.pop()\n",
    "print(list)"
   ]
  },
  {
   "cell_type": "code",
   "execution_count": 18,
   "metadata": {},
   "outputs": [
    {
     "name": "stdout",
     "output_type": "stream",
     "text": [
      "[1, 2, 3, 4, 'Jhonatan']\n"
     ]
    }
   ],
   "source": [
    "# Eliminar no por la posicion, si no, por valor\n",
    "list = [1,2,3,4,5,'Jhonatan']\n",
    "list.remove(5)\n",
    "print(list)"
   ]
  },
  {
   "cell_type": "code",
   "execution_count": 20,
   "metadata": {},
   "outputs": [
    {
     "name": "stdout",
     "output_type": "stream",
     "text": [
      "[]\n"
     ]
    }
   ],
   "source": [
    "# eliminar toda la lista\n",
    "list = [1,2,3,4,5,'Jhonatan']\n",
    "list.clear()\n",
    "print(list)"
   ]
  },
  {
   "cell_type": "code",
   "execution_count": 21,
   "metadata": {},
   "outputs": [
    {
     "name": "stdout",
     "output_type": "stream",
     "text": [
      "['Jhonatan', 5, 4, 3, 2, 1]\n"
     ]
    }
   ],
   "source": [
    "# invertir orden\n",
    "list = [1,2,3,4,5,'Jhonatan']\n",
    "list.reverse()\n",
    "print(list)"
   ]
  },
  {
   "cell_type": "code",
   "execution_count": 22,
   "metadata": {},
   "outputs": [
    {
     "name": "stdout",
     "output_type": "stream",
     "text": [
      "[1, 2, 3, 4, 5, 'Jhonatan', 1, 2, 3, 4, 5, 'Jhonatan']\n"
     ]
    }
   ],
   "source": [
    "# Aumentar o duplicar los elementos\n",
    "list = [1,2,3,4,5,'Jhonatan']*2\n",
    "\n",
    "print(list)"
   ]
  },
  {
   "cell_type": "code",
   "execution_count": 23,
   "metadata": {},
   "outputs": [
    {
     "name": "stdout",
     "output_type": "stream",
     "text": [
      "[-7, 0, 1, 3, 4, 5, 9]\n"
     ]
    }
   ],
   "source": [
    "# Ordenar elmentos ascendentemente\n",
    "list = [5,4,-7,9,0,1,3]\n",
    "list.sort()\n",
    "print(list)"
   ]
  },
  {
   "cell_type": "code",
   "execution_count": 24,
   "metadata": {},
   "outputs": [
    {
     "name": "stdout",
     "output_type": "stream",
     "text": [
      "[9, 5, 4, 3, 1, 0, -7]\n"
     ]
    }
   ],
   "source": [
    "# ordenar descendentemente\n",
    "list = [5,4,-7,9,0,1,3]\n",
    "list.sort(reverse=True)\n",
    "print(list)"
   ]
  },
  {
   "attachments": {},
   "cell_type": "markdown",
   "metadata": {},
   "source": [
    "# **cambio de tema**"
   ]
  },
  {
   "attachments": {},
   "cell_type": "markdown",
   "metadata": {},
   "source": [
    "# Tuplas"
   ]
  },
  {
   "cell_type": "code",
   "execution_count": 37,
   "metadata": {},
   "outputs": [
    {
     "data": {
      "text/plain": [
       "tuple"
      ]
     },
     "execution_count": 37,
     "metadata": {},
     "output_type": "execute_result"
    }
   ],
   "source": [
    "tupla = ()\n",
    "type(tupla)"
   ]
  },
  {
   "cell_type": "code",
   "execution_count": 32,
   "metadata": {},
   "outputs": [
    {
     "name": "stdout",
     "output_type": "stream",
     "text": [
      "(4, 'hola', 6.78, (1, 2, 3), 4)\n",
      "<class 'tuple'>\n"
     ]
    }
   ],
   "source": [
    "tupla = (4,'hola',6.78,(1,2,3),4)\n",
    "print(tupla)\n",
    "print(type(tupla))"
   ]
  },
  {
   "cell_type": "code",
   "execution_count": 6,
   "metadata": {},
   "outputs": [
    {
     "name": "stdout",
     "output_type": "stream",
     "text": [
      "[['lunes', 'martes', 'miercoles', 'jueves', 'viernes'], ['enero', 'febrero', 'marzo', 'abril', 'mayo', 'junio', 'julio', 'agosto', 'septiembre', 'octubre', 'noviembre', 'diciembre']]\n",
      "<class 'list'>\n"
     ]
    }
   ],
   "source": [
    "# podemos unir 2 listas pero esta mezcla depende de como la declaramos, siempre pendientes a usar llaves o corchetes\n",
    "days = [\"lunes\",\"martes\",\"miercoles\",\"jueves\",\"viernes\"]\n",
    "\n",
    "months = [\"enero\", \"febrero\", \"marzo\", \"abril\", \"mayo\", \"junio\", \"julio\", \"agosto\", \"septiembre\", \"octubre\", \"noviembre\" , \"diciembre\"]\n",
    "\n",
    "year = [days,months]\n",
    "\n",
    "print(year)\n",
    "\n",
    "print(type(year))"
   ]
  },
  {
   "attachments": {},
   "cell_type": "markdown",
   "metadata": {},
   "source": [
    "# Operaciones con tuplas\n",
    "Como hemos comentado, las tuplas son tipos inmutables, lo que significa que una vez asignado su valor, no puede ser modificado. Si se intenta, tendremos un TypeError."
   ]
  },
  {
   "cell_type": "code",
   "execution_count": null,
   "metadata": {},
   "outputs": [],
   "source": [
    "# métodos como .append() no añade\n",
    "# métodos como tupla[0] = 8 no cambiaría el índice 0 por 8\n",
    "# métodos como tupla.pop() no elimina nada"
   ]
  },
  {
   "cell_type": "code",
   "execution_count": null,
   "metadata": {},
   "outputs": [],
   "source": [
    "# podemos Buscar sus elementos con el metodo print(tupla[-1])\n",
    "# buscara ese indice\n",
    "# todo tipo de busqueda es permitido"
   ]
  },
  {
   "cell_type": "code",
   "execution_count": 36,
   "metadata": {},
   "outputs": [
    {
     "name": "stdout",
     "output_type": "stream",
     "text": [
      "\n",
      "True\n",
      "\n",
      "1\n",
      "\n",
      "2\n",
      "\n",
      "5\n"
     ]
    }
   ],
   "source": [
    "\n",
    "tupla = (4,'hola',6.78,[1,2,3],4)\n",
    "\n",
    "print()\n",
    "print(4 in tupla)\n",
    "print()\n",
    "print(tupla.index('hola'))\n",
    "print()\n",
    "print(tupla.count(4))\n",
    "print()\n",
    "print(len(tupla))"
   ]
  },
  {
   "attachments": {},
   "cell_type": "markdown",
   "metadata": {},
   "source": [
    "# Cambio de tema\n"
   ]
  },
  {
   "attachments": {},
   "cell_type": "markdown",
   "metadata": {},
   "source": [
    "## Primero que todo, como declararlos"
   ]
  },
  {
   "cell_type": "code",
   "execution_count": 8,
   "metadata": {},
   "outputs": [
    {
     "name": "stdout",
     "output_type": "stream",
     "text": [
      "<class 'set'>\n"
     ]
    }
   ],
   "source": [
    "# uso de llaves {}\n",
    "set = {1,2,3}\n",
    "\n",
    "print(type(set))"
   ]
  },
  {
   "attachments": {},
   "cell_type": "markdown",
   "metadata": {},
   "source": [
    "Agregar elementos"
   ]
  },
  {
   "cell_type": "code",
   "execution_count": 7,
   "metadata": {},
   "outputs": [
    {
     "name": "stdout",
     "output_type": "stream",
     "text": [
      "{1, 2, 3, 4.56, 'Hola', 5, 'adios', 'a'}\n",
      "<class 'set'>\n"
     ]
    }
   ],
   "source": [
    "set = {1,2,3,'Hola',4.56}\n",
    "\n",
    "set.add(5)\n",
    "set.add(\"adios\")\n",
    "set.add('a')\n",
    "\n",
    "print(set)\n",
    "print(type(set))"
   ]
  },
  {
   "attachments": {},
   "cell_type": "markdown",
   "metadata": {},
   "source": [
    "eliminar elementos"
   ]
  },
  {
   "cell_type": "code",
   "execution_count": 45,
   "metadata": {},
   "outputs": [
    {
     "name": "stdout",
     "output_type": "stream",
     "text": [
      "{1, 2, 4.56, 'Hola'}\n"
     ]
    }
   ],
   "source": [
    "set = {1,2,3,'Hola',4.56}\n",
    "\n",
    "set.discard(3)\n",
    "set.discard(\"adios\")\n",
    "set.discard('a')\n",
    "\n",
    "print(set)"
   ]
  },
  {
   "attachments": {},
   "cell_type": "markdown",
   "metadata": {},
   "source": [
    "vaciar elementos"
   ]
  },
  {
   "cell_type": "code",
   "execution_count": 46,
   "metadata": {},
   "outputs": [
    {
     "name": "stdout",
     "output_type": "stream",
     "text": [
      "set()\n"
     ]
    }
   ],
   "source": [
    "set = {1,2,3,'Hola',4.56}\n",
    "\n",
    "set.clear()\n",
    "print(set)"
   ]
  },
  {
   "attachments": {},
   "cell_type": "markdown",
   "metadata": {},
   "source": [
    "buscar en conjuntos"
   ]
  },
  {
   "cell_type": "code",
   "execution_count": 47,
   "metadata": {},
   "outputs": [
    {
     "name": "stdout",
     "output_type": "stream",
     "text": [
      "True\n",
      "False\n",
      "False\n"
     ]
    }
   ],
   "source": [
    "set = {1,2,3,'Hola',4.56}\n",
    "\n",
    "print(3 in set)\n",
    "print(11 in set)\n",
    "print(3 not in set)\n"
   ]
  },
  {
   "attachments": {},
   "cell_type": "markdown",
   "metadata": {},
   "source": [
    "# Entre conjuntos"
   ]
  },
  {
   "cell_type": "code",
   "execution_count": 50,
   "metadata": {},
   "outputs": [
    {
     "ename": "TypeError",
     "evalue": "unsupported operand type(s) for +: 'set' and 'set'",
     "output_type": "error",
     "traceback": [
      "\u001b[0;31m---------------------------------------------------------------------------\u001b[0m",
      "\u001b[0;31mTypeError\u001b[0m                                 Traceback (most recent call last)",
      "\u001b[1;32m/Users/carlosrios/Documents/Curso programacion Jhonatan Menco/clase_python/clase_7_colecciones/clase_7.ipynb Cell 56\u001b[0m in \u001b[0;36m4\n\u001b[1;32m      <a href='vscode-notebook-cell:/Users/carlosrios/Documents/Curso%20programacion%20Jhonatan%20Menco/clase_python/clase_7_colecciones/clase_7.ipynb#Y113sZmlsZQ%3D%3D?line=0'>1</a>\u001b[0m a \u001b[39m=\u001b[39m {\u001b[39m1\u001b[39m,\u001b[39m2\u001b[39m,\u001b[39m3\u001b[39m}\n\u001b[1;32m      <a href='vscode-notebook-cell:/Users/carlosrios/Documents/Curso%20programacion%20Jhonatan%20Menco/clase_python/clase_7_colecciones/clase_7.ipynb#Y113sZmlsZQ%3D%3D?line=1'>2</a>\u001b[0m b \u001b[39m=\u001b[39m {\u001b[39m3\u001b[39m,\u001b[39m1\u001b[39m,\u001b[39m2\u001b[39m}\n\u001b[0;32m----> <a href='vscode-notebook-cell:/Users/carlosrios/Documents/Curso%20programacion%20Jhonatan%20Menco/clase_python/clase_7_colecciones/clase_7.ipynb#Y113sZmlsZQ%3D%3D?line=3'>4</a>\u001b[0m c \u001b[39m=\u001b[39m a \u001b[39m+\u001b[39;49m b\n\u001b[1;32m      <a href='vscode-notebook-cell:/Users/carlosrios/Documents/Curso%20programacion%20Jhonatan%20Menco/clase_python/clase_7_colecciones/clase_7.ipynb#Y113sZmlsZQ%3D%3D?line=5'>6</a>\u001b[0m \u001b[39mprint\u001b[39m(c)\n",
      "\u001b[0;31mTypeError\u001b[0m: unsupported operand type(s) for +: 'set' and 'set'"
     ]
    }
   ],
   "source": [
    "# como unir 2 conjuntos?\n",
    "\n",
    "a = {1,2,3}\n",
    "b = {3,1,2}\n",
    "\n",
    "c = a + b # modo equivocado\n",
    "\n",
    "print(c)"
   ]
  },
  {
   "attachments": {},
   "cell_type": "markdown",
   "metadata": {},
   "source": [
    "## Los operadores aritmeticos no sirven para estas uniones"
   ]
  },
  {
   "cell_type": "code",
   "execution_count": 75,
   "metadata": {},
   "outputs": [
    {
     "name": "stdout",
     "output_type": "stream",
     "text": [
      "{1, 2, 3, 4, 5}\n"
     ]
    }
   ],
   "source": [
    "a = {1,2,3}\n",
    "b = {3,4,5}\n",
    "\n",
    "c = a | b   # union de 2 conjuntos\n",
    "\n",
    "print(c)"
   ]
  },
  {
   "cell_type": "code",
   "execution_count": 49,
   "metadata": {},
   "outputs": [
    {
     "name": "stdout",
     "output_type": "stream",
     "text": [
      "True\n"
     ]
    }
   ],
   "source": [
    "a = {1,2,3}\n",
    "b = {3,2,1}\n",
    "\n",
    "# igualdad de 2 conjuntos con mismos elementos, orden diferentes\n",
    "print(a == b)"
   ]
  },
  {
   "cell_type": "code",
   "execution_count": 48,
   "metadata": {},
   "outputs": [
    {
     "name": "stdout",
     "output_type": "stream",
     "text": [
      "False\n"
     ]
    }
   ],
   "source": [
    "a = {1,2,3}\n",
    "b = {3,4,5}\n",
    "\n",
    "# igualdad de 2 conjuntos\n",
    "print(a == b)"
   ]
  },
  {
   "cell_type": "code",
   "execution_count": 52,
   "metadata": {},
   "outputs": [
    {
     "name": "stdout",
     "output_type": "stream",
     "text": [
      "{3}\n"
     ]
    }
   ],
   "source": [
    "# Intercección\n",
    "a = {1,2,3}\n",
    "b = {3,4,5}\n",
    "\n",
    "c = a & b  \n",
    "\n",
    "print(c)"
   ]
  },
  {
   "cell_type": "code",
   "execution_count": 53,
   "metadata": {},
   "outputs": [
    {
     "name": "stdout",
     "output_type": "stream",
     "text": [
      "{1, 2}\n",
      "{4, 5}\n"
     ]
    }
   ],
   "source": [
    "a = {1,2,3}\n",
    "b = {3,4,5}\n",
    "\n",
    "c = a - b # que hay en a que no estan en b\n",
    "d = b - a # que hay en b que no estan en a\n",
    "\n",
    "print(c)\n",
    "print(d)"
   ]
  },
  {
   "cell_type": "code",
   "execution_count": 54,
   "metadata": {},
   "outputs": [
    {
     "name": "stdout",
     "output_type": "stream",
     "text": [
      "{1, 2, 4, 5}\n"
     ]
    }
   ],
   "source": [
    "# Diferencia simetrica\n",
    "a = {1,2,3}\n",
    "b = {3,4,5}\n",
    "\n",
    "c = a ^ b   # elementos de a y b, pero no en ambos\n",
    "print(c)"
   ]
  },
  {
   "cell_type": "code",
   "execution_count": 55,
   "metadata": {},
   "outputs": [
    {
     "name": "stdout",
     "output_type": "stream",
     "text": [
      "True\n",
      "True\n"
     ]
    }
   ],
   "source": [
    "# subconjunto\n",
    "a = {1,2,3}\n",
    "b = {3,4,5}\n",
    "\n",
    "c = {1,2,3,4,5}\n",
    "\n",
    "print(a.issubset(c)) # a es subconjunto de c?\n",
    "print(b.issubset(c)) # b es subconjunto de c?"
   ]
  },
  {
   "cell_type": "code",
   "execution_count": 56,
   "metadata": {},
   "outputs": [
    {
     "name": "stdout",
     "output_type": "stream",
     "text": [
      "True\n",
      "False\n"
     ]
    }
   ],
   "source": [
    "a = {1,2,3}\n",
    "b = {3,4,5}\n",
    "\n",
    "c = {1,2,3,5}\n",
    "\n",
    "print(a.issubset(c)) # a es subconjunto de c?\n",
    "print(b.issubset(c)) # b es subconjunto de c?"
   ]
  },
  {
   "cell_type": "code",
   "execution_count": null,
   "metadata": {},
   "outputs": [],
   "source": [
    "# Superconjunto\n",
    "a = {1,2,3}\n",
    "b = {3,4,5}\n",
    "\n",
    "c = {1,2,3,4,5} \n",
    "\n",
    "print(c.issuperset(a)) # c es superconjunto de a?\n",
    "print(c.issuperset(b)) # c es superconjunto de b?"
   ]
  },
  {
   "cell_type": "code",
   "execution_count": 57,
   "metadata": {},
   "outputs": [
    {
     "name": "stdout",
     "output_type": "stream",
     "text": [
      "False\n"
     ]
    }
   ],
   "source": [
    "# Disconexos si no comparten elementos entre sí.\n",
    "a = {1,2,3}\n",
    "b = {3,4,5}\n",
    "\n",
    "c = {1,2,3,4,5}\n",
    "\n",
    "print(a.isdisjoint(b))"
   ]
  },
  {
   "cell_type": "code",
   "execution_count": 58,
   "metadata": {},
   "outputs": [
    {
     "name": "stdout",
     "output_type": "stream",
     "text": [
      "True\n"
     ]
    }
   ],
   "source": [
    "# Disconexos si no comparten elementos entre sí.\n",
    "a = {1,2,7}\n",
    "b = {3,4,5}\n",
    "\n",
    "c = {1,2,3,4,5}\n",
    "\n",
    "print(a.isdisjoint(b))"
   ]
  },
  {
   "cell_type": "code",
   "execution_count": 60,
   "metadata": {},
   "outputs": [
    {
     "ename": "SyntaxError",
     "evalue": "invalid syntax (887132061.py, line 1)",
     "output_type": "error",
     "traceback": [
      "\u001b[0;36m  Cell \u001b[0;32mIn [60], line 1\u001b[0;36m\u001b[0m\n\u001b[0;31m    a = frozenset{1,2,7}\u001b[0m\n\u001b[0m                 ^\u001b[0m\n\u001b[0;31mSyntaxError\u001b[0m\u001b[0;31m:\u001b[0m invalid syntax\n"
     ]
    }
   ],
   "source": [
    "a = frozenset{1,2,7}\n",
    "\n",
    "a.add(3)\n"
   ]
  },
  {
   "attachments": {},
   "cell_type": "markdown",
   "metadata": {},
   "source": [
    "# **cambio de tema**"
   ]
  },
  {
   "attachments": {},
   "cell_type": "markdown",
   "metadata": {},
   "source": [
    "# diccionario de español a ingles"
   ]
  },
  {
   "attachments": {},
   "cell_type": "markdown",
   "metadata": {},
   "source": [
    "primero aqui tenemos que imprimir el diccionario es imprimir tanto las claves como los valores"
   ]
  },
  {
   "cell_type": "code",
   "execution_count": 61,
   "metadata": {},
   "outputs": [
    {
     "name": "stdout",
     "output_type": "stream",
     "text": [
      "{'azul': 'blue', 'rojo': 'red', 'verde': 'green'}\n"
     ]
    }
   ],
   "source": [
    "dicc = {\"azul\":\"blue\",\"rojo\":\"red\",\"verde\":\"green\"}\n",
    "#        key    value   key  value  key     value\n",
    "print(dicc)"
   ]
  },
  {
   "attachments": {},
   "cell_type": "markdown",
   "metadata": {},
   "source": [
    "para mostrar solo 1 elemento usamos la clave"
   ]
  },
  {
   "cell_type": "code",
   "execution_count": 62,
   "metadata": {},
   "outputs": [
    {
     "name": "stdout",
     "output_type": "stream",
     "text": [
      "red\n"
     ]
    }
   ],
   "source": [
    "dicc = {\"azul\":\"blue\",\"rojo\":\"red\",\"verde\":\"green\"}\n",
    "#        key    value   key  value  key     value\n",
    "\n",
    "print(dicc[\"rojo\"])"
   ]
  },
  {
   "attachments": {},
   "cell_type": "markdown",
   "metadata": {},
   "source": [
    "añadir elementos, entre corchete la nueva clave y damos como igual el nuevo valor"
   ]
  },
  {
   "cell_type": "code",
   "execution_count": 63,
   "metadata": {},
   "outputs": [
    {
     "name": "stdout",
     "output_type": "stream",
     "text": [
      "{'azul': 'blue', 'rojo': 'red', 'verde': 'green', 'amarillo': 'yellow'}\n"
     ]
    }
   ],
   "source": [
    "dicc = {\"azul\":\"blue\",\"rojo\":\"red\",\"verde\":\"green\"}\n",
    "#        key    value   key  value  key     value\n",
    "dicc[\"amarillo\"] = \"yellow\"\n",
    "print(dicc)"
   ]
  },
  {
   "attachments": {},
   "cell_type": "markdown",
   "metadata": {},
   "source": [
    "modificar valor, entre corchetes escribimos la clave y damos como igual el nuevo valor"
   ]
  },
  {
   "cell_type": "code",
   "execution_count": 64,
   "metadata": {},
   "outputs": [
    {
     "name": "stdout",
     "output_type": "stream",
     "text": [
      "{'azul': 'BLUE', 'rojo': 'red', 'verde': 'green'}\n"
     ]
    }
   ],
   "source": [
    "dicc = {\"azul\":\"blue\",\"rojo\":\"red\",\"verde\":\"green\"}\n",
    "#        key    value   key  value  key     value\n",
    "dicc[\"azul\"] = \"BLUE\"\n",
    "print(dicc)"
   ]
  },
  {
   "attachments": {},
   "cell_type": "markdown",
   "metadata": {},
   "source": [
    "Eliminar objeto, con el comando del()\n",
    "a dentro el diccionario, y la clave que queremos eliminar"
   ]
  },
  {
   "cell_type": "code",
   "execution_count": 66,
   "metadata": {},
   "outputs": [
    {
     "name": "stdout",
     "output_type": "stream",
     "text": [
      "{'azul': 'blue', 'rojo': 'red'}\n"
     ]
    }
   ],
   "source": [
    "dicc = {\"azul\":\"blue\",\"rojo\":\"red\",\"verde\":\"green\"}\n",
    "#        key    value   key  value  key     value\n",
    "del(dicc[\"verde\"])\n",
    "print(dicc)"
   ]
  },
  {
   "attachments": {},
   "cell_type": "markdown",
   "metadata": {},
   "source": [
    "# En los diccionarios puedes ingresar todos los tipos de datos\n",
    "\n",
    "Incluso listas, duplas y otros diccionarios"
   ]
  },
  {
   "attachments": {},
   "cell_type": "markdown",
   "metadata": {},
   "source": [
    "veamos un diccionario con nombres y datos de estudiantes"
   ]
  },
  {
   "cell_type": "code",
   "execution_count": 67,
   "metadata": {},
   "outputs": [
    {
     "name": "stdout",
     "output_type": "stream",
     "text": [
      "{'alejandro': {'edad': 22, 'estatura': 1.73}, 'jose': [21, 1.75], 'maria': [22.167]}\n"
     ]
    }
   ],
   "source": [
    "dicc = {\"alejandro\":{\"edad\":22,\"estatura\":1.73},\"jose\":[21,1.75],\"maria\":[22.167]}\n",
    "\n",
    "\n",
    "print(dicc)"
   ]
  },
  {
   "attachments": {},
   "cell_type": "markdown",
   "metadata": {},
   "source": [
    "print(equip[10])\n",
    "* El 10 es la clave de la informacion del diccionario, eso no se mostrara ya que la variable 10 \n",
    "* tiene de informacion un string"
   ]
  },
  {
   "cell_type": "code",
   "execution_count": 68,
   "metadata": {},
   "outputs": [
    {
     "name": "stdout",
     "output_type": "stream",
     "text": [
      "paulo dybala\n"
     ]
    }
   ],
   "source": [
    "equip = {10:\"paulo dybala\",11:\"douglas costa\",7:\"cristiano ronaldo\"}\n",
    "\n",
    "print(equip[10])"
   ]
  },
  {
   "cell_type": "code",
   "execution_count": 71,
   "metadata": {},
   "outputs": [
    {
     "name": "stdout",
     "output_type": "stream",
     "text": [
      "cristiano ronaldo\n"
     ]
    }
   ],
   "source": [
    "equip = {10:\"paulo dybala\",11:\"douglas costa\",7:\"cristiano ronaldo\"}\n",
    "\n",
    "print(equip[7])"
   ]
  },
  {
   "cell_type": "code",
   "execution_count": 72,
   "metadata": {},
   "outputs": [
    {
     "name": "stdout",
     "output_type": "stream",
     "text": [
      "True\n"
     ]
    }
   ],
   "source": [
    "equip = {10:\"paulo dybala\",11:\"douglas costa\",7:\"cristiano ronaldo\"}\n",
    "\n",
    "print(10 in equip)"
   ]
  },
  {
   "attachments": {},
   "cell_type": "markdown",
   "metadata": {},
   "source": [
    "## ver solo claves o dados"
   ]
  },
  {
   "cell_type": "code",
   "execution_count": 73,
   "metadata": {},
   "outputs": [
    {
     "name": "stdout",
     "output_type": "stream",
     "text": [
      "dict_keys([10, 11, 7])\n"
     ]
    }
   ],
   "source": [
    "equip = {10:\"paulo dybala\",11:\"douglas costa\",7:\"cristiano ronaldo\"}\n",
    "\n",
    "print(equip.keys())"
   ]
  },
  {
   "cell_type": "code",
   "execution_count": 74,
   "metadata": {},
   "outputs": [
    {
     "name": "stdout",
     "output_type": "stream",
     "text": [
      "dict_values(['paulo dybala', 'douglas costa', 'cristiano ronaldo'])\n"
     ]
    }
   ],
   "source": [
    "equip = {10:\"paulo dybala\",11:\"douglas costa\",7:\"cristiano ronaldo\"}\n",
    "\n",
    "print(equip.values())"
   ]
  },
  {
   "attachments": {},
   "cell_type": "markdown",
   "metadata": {},
   "source": [
    "cambio de tema"
   ]
  },
  {
   "attachments": {},
   "cell_type": "markdown",
   "metadata": {},
   "source": [
    "# pilas con listas"
   ]
  },
  {
   "attachments": {},
   "cell_type": "markdown",
   "metadata": {},
   "source": [
    "aqui tenemos una lista normal a la cual le agregamos 2 elementos"
   ]
  },
  {
   "cell_type": "code",
   "execution_count": 76,
   "metadata": {},
   "outputs": [
    {
     "name": "stdout",
     "output_type": "stream",
     "text": [
      "[1, 2, 3, 4, 5]\n"
     ]
    },
    {
     "data": {
      "text/plain": [
       "list"
      ]
     },
     "execution_count": 76,
     "metadata": {},
     "output_type": "execute_result"
    }
   ],
   "source": [
    "stack = [1,2,3]\n",
    "\n",
    "stack.append(4)\n",
    "stack.append(5)\n",
    "\n",
    "print(stack)\n",
    "type(stack)"
   ]
  },
  {
   "attachments": {},
   "cell_type": "markdown",
   "metadata": {},
   "source": [
    "si usamos la funcion pop() que como recordamos, sacamos la ultima adquisicion"
   ]
  },
  {
   "cell_type": "code",
   "execution_count": 77,
   "metadata": {},
   "outputs": [
    {
     "name": "stdout",
     "output_type": "stream",
     "text": [
      "[1, 2, 3, 4, 5]\n",
      "[1, 2, 3, 4]\n"
     ]
    }
   ],
   "source": [
    "stack = [1,2,3]\n",
    "\n",
    "stack.append(4)\n",
    "stack.append(5)\n",
    "\n",
    "print(stack)\n",
    "\n",
    "stack.pop()\n",
    "print(stack)"
   ]
  },
  {
   "attachments": {},
   "cell_type": "markdown",
   "metadata": {},
   "source": [
    "lo curioso es que si le asignamos una variable a esta accion optendremos un registro de lo ocurrido"
   ]
  },
  {
   "cell_type": "code",
   "execution_count": 82,
   "metadata": {},
   "outputs": [
    {
     "name": "stdout",
     "output_type": "stream",
     "text": [
      "[1, 2, 3]\n",
      "agregando el elemento 4\n",
      "[1, 2, 3, 4]\n",
      "agregando el elemento 5\n",
      "[1, 2, 3, 4, 5]\n",
      "sacando el elemento 5\n",
      "[1, 2, 3, 4]\n"
     ]
    }
   ],
   "source": [
    "stack = [1,2,3]\n",
    "print(stack)\n",
    "stack.append(4)\n",
    "print(f'agregando el elemento {4}')\n",
    "print(stack)\n",
    "stack.append(5)\n",
    "print(f'agregando el elemento {5}')\n",
    "print(stack)\n",
    "\n",
    "n = stack.pop()\n",
    "\n",
    "print(f'sacando el elemento {n}')\n",
    "\n",
    "print(stack)"
   ]
  },
  {
   "attachments": {},
   "cell_type": "markdown",
   "metadata": {},
   "source": [
    "cambio de tema"
   ]
  },
  {
   "attachments": {},
   "cell_type": "markdown",
   "metadata": {},
   "source": [
    "# Cola"
   ]
  },
  {
   "cell_type": "code",
   "execution_count": 97,
   "metadata": {},
   "outputs": [
    {
     "name": "stdout",
     "output_type": "stream",
     "text": [
      "Cola del banco\n",
      "['Maria', 'alejanro', 'jose', 'mario']\n"
     ]
    }
   ],
   "source": [
    "tail = [\"Maria\",\"alejanro\",\"jose\",\"mario\"]\n",
    "print(f'Cola del banco\\n{tail}')"
   ]
  },
  {
   "attachments": {},
   "cell_type": "markdown",
   "metadata": {},
   "source": [
    "llegan mas personas a la cola del banco"
   ]
  },
  {
   "cell_type": "code",
   "execution_count": 98,
   "metadata": {},
   "outputs": [
    {
     "name": "stdout",
     "output_type": "stream",
     "text": [
      "Cola del banco\n",
      "['Maria', 'alejanro', 'jose', 'mario']\n",
      "\n",
      "karla y flor llegan y entran a la cola\n",
      "\n",
      "Cola del banco\n",
      "['Maria', 'alejanro', 'jose', 'mario', 'karla', 'flor']\n"
     ]
    }
   ],
   "source": [
    "tail = [\"Maria\",\"alejanro\",\"jose\",\"mario\"]\n",
    "print(f'Cola del banco\\n{tail}')\n",
    "print()\n",
    "tail.append(\"karla\")\n",
    "tail.append('flor')\n",
    "print(f'{\"karla y flor\"} llegan y entran a la cola')\n",
    "\n",
    "print()\n",
    "print(f'Cola del banco\\n{tail}')"
   ]
  },
  {
   "cell_type": "code",
   "execution_count": 94,
   "metadata": {},
   "outputs": [
    {
     "name": "stdout",
     "output_type": "stream",
     "text": [
      "Cola del banco\n",
      "['Maria', 'alejanro', 'jose', 'mario']\n",
      "\n",
      "karla y flor llegan y entran a la cola\n",
      "\n",
      "Cola del banco\n",
      "['Maria', 'alejanro', 'jose', 'mario', 'karla', 'flor']\n",
      "\n",
      "Maria pasa a caja y sale de la cola\n",
      "\n",
      "Cola del banco\n",
      "['alejanro', 'jose', 'mario', 'karla', 'flor']\n"
     ]
    }
   ],
   "source": [
    "tail = [\"Maria\",\"alejanro\",\"jose\",\"mario\"]\n",
    "print(f'Cola del banco\\n{tail}')\n",
    "print()\n",
    "tail.append(\"karla\")\n",
    "tail.append('flor')\n",
    "print(f'{\"karla y flor\"} llegan y entran a la cola')\n",
    "\n",
    "print()\n",
    "print(f'Cola del banco\\n{tail}')\n",
    "\n",
    "n = tail.pop(0)\n",
    "print()\n",
    "print(f\"{n} pasa a caja y sale de la cola\")\n",
    "print()\n",
    "print(f'Cola del banco\\n{tail}')"
   ]
  },
  {
   "cell_type": "code",
   "execution_count": 4,
   "metadata": {},
   "outputs": [
    {
     "name": "stdout",
     "output_type": "stream",
     "text": [
      "[1, 2, 33, 1, 3, 2, 4, 1, 1, 1, 2, 3, 4, 57, 8, 8, 9, 6, 5, 4, 5, 6, 7, 8, 9, 0, 3, 2, 5, 6]\n",
      "\n",
      "debemos separar los repetidos\n",
      "\n",
      "\n",
      "luego de separar los repetidos, nos quedamos con\n",
      "[0, 1, 2, 3, 4, 33, 6, 5, 8, 9, 7, 57]\n"
     ]
    }
   ],
   "source": [
    "num = [1,2,33,1,3,2,4,1,1,1,2,3,4,57,8,8,9,6,5,4,5,6,7,8,9,0,3,2,5,6]\n",
    "\n",
    "print(num)\n",
    "print()\n",
    "print('debemos separar los repetidos')\n",
    "print()\n",
    "outlist = set(num)\n",
    "num = list(outlist)\n",
    "\n",
    "print()\n",
    "print(f'luego de separar los repetidos, nos quedamos con\\n{num}')"
   ]
  }
 ],
 "metadata": {
  "kernelspec": {
   "display_name": "Python 3",
   "language": "python",
   "name": "python3"
  },
  "language_info": {
   "codemirror_mode": {
    "name": "ipython",
    "version": 3
   },
   "file_extension": ".py",
   "mimetype": "text/x-python",
   "name": "python",
   "nbconvert_exporter": "python",
   "pygments_lexer": "ipython3",
   "version": "3.11.0"
  },
  "orig_nbformat": 4
 },
 "nbformat": 4,
 "nbformat_minor": 2
}
